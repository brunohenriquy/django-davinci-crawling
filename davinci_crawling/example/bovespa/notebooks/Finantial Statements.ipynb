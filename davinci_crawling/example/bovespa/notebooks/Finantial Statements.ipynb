{
 "cells": [
  {
   "cell_type": "code",
   "execution_count": 71,
   "metadata": {},
   "outputs": [],
   "source": [
    "try:\n",
    "    from dse.cluster import Cluster\n",
    "except ImportError:\n",
    "    from cassandra.cluster import Cluster\n",
    "\n",
    "cluster = Cluster(['127.0.0.1', '127.0.0.2', '127.0.0.3'])  # provide contact points and port\n",
    "session = cluster.connect('davinci')\n",
    "\n",
    "import pandas as pd"
   ]
  },
  {
   "cell_type": "code",
   "execution_count": 1,
   "metadata": {},
   "outputs": [],
   "source": [
    "#!pip install jupyterthemes\n",
    "!jt -t grade3"
   ]
  },
  {
   "cell_type": "code",
   "execution_count": 3,
   "metadata": {},
   "outputs": [],
   "source": [
    "from dateutil.parser import parse as parse_date"
   ]
  },
  {
   "cell_type": "code",
   "execution_count": 72,
   "metadata": {},
   "outputs": [],
   "source": [
    "companies = session.execute(\"select ccvm, company_name, cnpj from bovespa_company;\")\n",
    "companies_df = pd.DataFrame(sorted(list(companies), key=lambda x: x.company_name))"
   ]
  },
  {
   "cell_type": "code",
   "execution_count": 73,
   "metadata": {},
   "outputs": [
    {
     "data": {
      "text/plain": [
       "'Total number of companies: 866'"
      ]
     },
     "metadata": {},
     "output_type": "display_data"
    }
   ],
   "source": [
    "import json\n",
    "\n",
    "files_per_company = session.execute(\"select * from bovespa_company_file WHERE solr_query='{\\\"q\\\":\\\"*:*\\\", \\\"facet\\\": {\\\"field\\\": \\\"ccvm_exact\\\", \\\"limit\\\": 10000}}';\").one()\n",
    "files_per_company = json.loads(files_per_company.facet_fields)[\"ccvm_exact\"]\n",
    "files_per_company = pd.DataFrame([{\"type\": \"Companies\", \"ccvm\": ccvm, \"num_files\": round(num_files / 4, 0)} for ccvm, num_files in files_per_company.items()])\n",
    "display(\"Total number of companies: {}\".format(len(files_per_company)))"
   ]
  },
  {
   "cell_type": "code",
   "execution_count": 74,
   "metadata": {},
   "outputs": [
    {
     "data": {
      "application/vnd.vegalite.v2+json": {
       "$schema": "https://vega.github.io/schema/vega-lite/v2.6.0.json",
       "config": {
        "view": {
         "height": 300,
         "width": 400
        }
       },
       "datasets": {
        "data-02e3089812a1ac0b2959d82caed1caca": [
         {
          "ccvm": "20931",
          "num_files": 16,
          "type": "Companies"
         },
         {
          "ccvm": "11070",
          "num_files": 15,
          "type": "Companies"
         },
         {
          "ccvm": "16241",
          "num_files": 15,
          "type": "Companies"
         },
         {
          "ccvm": "1155",
          "num_files": 14,
          "type": "Companies"
         },
         {
          "ccvm": "20346",
          "num_files": 14,
          "type": "Companies"
         },
         {
          "ccvm": "20567",
          "num_files": 14,
          "type": "Companies"
         },
         {
          "ccvm": "22020",
          "num_files": 14,
          "type": "Companies"
         },
         {
          "ccvm": "6173",
          "num_files": 14,
          "type": "Companies"
         },
         {
          "ccvm": "7811",
          "num_files": 14,
          "type": "Companies"
         },
         {
          "ccvm": "15539",
          "num_files": 14,
          "type": "Companies"
         },
         {
          "ccvm": "20010",
          "num_files": 14,
          "type": "Companies"
         },
         {
          "ccvm": "21342",
          "num_files": 14,
          "type": "Companies"
         },
         {
          "ccvm": "1120",
          "num_files": 14,
          "type": "Companies"
         },
         {
          "ccvm": "21555",
          "num_files": 14,
          "type": "Companies"
         },
         {
          "ccvm": "20621",
          "num_files": 13,
          "type": "Companies"
         },
         {
          "ccvm": "21636",
          "num_files": 13,
          "type": "Companies"
         },
         {
          "ccvm": "22691",
          "num_files": 13,
          "type": "Companies"
         },
         {
          "ccvm": "14206",
          "num_files": 13,
          "type": "Companies"
         },
         {
          "ccvm": "10880",
          "num_files": 13,
          "type": "Companies"
         },
         {
          "ccvm": "19445",
          "num_files": 13,
          "type": "Companies"
         },
         {
          "ccvm": "20532",
          "num_files": 13,
          "type": "Companies"
         },
         {
          "ccvm": "22268",
          "num_files": 13,
          "type": "Companies"
         },
         {
          "ccvm": "22667",
          "num_files": 13,
          "type": "Companies"
         },
         {
          "ccvm": "1023",
          "num_files": 12,
          "type": "Companies"
         },
         {
          "ccvm": "17450",
          "num_files": 12,
          "type": "Companies"
         },
         {
          "ccvm": "19569",
          "num_files": 12,
          "type": "Companies"
         },
         {
          "ccvm": "19658",
          "num_files": 12,
          "type": "Companies"
         },
         {
          "ccvm": "20990",
          "num_files": 12,
          "type": "Companies"
         },
         {
          "ccvm": "11398",
          "num_files": 12,
          "type": "Companies"
         },
         {
          "ccvm": "12653",
          "num_files": 12,
          "type": "Companies"
         },
         {
          "ccvm": "20478",
          "num_files": 12,
          "type": "Companies"
         },
         {
          "ccvm": "21016",
          "num_files": 12,
          "type": "Companies"
         },
         {
          "ccvm": "21199",
          "num_files": 12,
          "type": "Companies"
         },
         {
          "ccvm": "22217",
          "num_files": 12,
          "type": "Companies"
         },
         {
          "ccvm": "6815",
          "num_files": 12,
          "type": "Companies"
         },
         {
          "ccvm": "9989",
          "num_files": 12,
          "type": "Companies"
         },
         {
          "ccvm": "14826",
          "num_files": 12,
          "type": "Companies"
         },
         {
          "ccvm": "15253",
          "num_files": 12,
          "type": "Companies"
         },
         {
          "ccvm": "17973",
          "num_files": 12,
          "type": "Companies"
         },
         {
          "ccvm": "18627",
          "num_files": 12,
          "type": "Companies"
         },
         {
          "ccvm": "20524",
          "num_files": 12,
          "type": "Companies"
         },
         {
          "ccvm": "22071",
          "num_files": 12,
          "type": "Companies"
         },
         {
          "ccvm": "7544",
          "num_files": 12,
          "type": "Companies"
         },
         {
          "ccvm": "11762",
          "num_files": 12,
          "type": "Companies"
         },
         {
          "ccvm": "12319",
          "num_files": 12,
          "type": "Companies"
         },
         {
          "ccvm": "19909",
          "num_files": 12,
          "type": "Companies"
         },
         {
          "ccvm": "20257",
          "num_files": 12,
          "type": "Companies"
         },
         {
          "ccvm": "20575",
          "num_files": 12,
          "type": "Companies"
         },
         {
          "ccvm": "20788",
          "num_files": 12,
          "type": "Companies"
         },
         {
          "ccvm": "21300",
          "num_files": 12,
          "type": "Companies"
         },
         {
          "ccvm": "21490",
          "num_files": 12,
          "type": "Companies"
         },
         {
          "ccvm": "14869",
          "num_files": 12,
          "type": "Companies"
         },
         {
          "ccvm": "19100",
          "num_files": 12,
          "type": "Companies"
         },
         {
          "ccvm": "20435",
          "num_files": 12,
          "type": "Companies"
         },
         {
          "ccvm": "20494",
          "num_files": 12,
          "type": "Companies"
         },
         {
          "ccvm": "21644",
          "num_files": 12,
          "type": "Companies"
         },
         {
          "ccvm": "22454",
          "num_files": 12,
          "type": "Companies"
         },
         {
          "ccvm": "22470",
          "num_files": 12,
          "type": "Companies"
         },
         {
          "ccvm": "6343",
          "num_files": 12,
          "type": "Companies"
         },
         {
          "ccvm": "11258",
          "num_files": 11,
          "type": "Companies"
         },
         {
          "ccvm": "1325",
          "num_files": 11,
          "type": "Companies"
         },
         {
          "ccvm": "19348",
          "num_files": 11,
          "type": "Companies"
         },
         {
          "ccvm": "19550",
          "num_files": 11,
          "type": "Companies"
         },
         {
          "ccvm": "19763",
          "num_files": 11,
          "type": "Companies"
         },
         {
          "ccvm": "19879",
          "num_files": 11,
          "type": "Companies"
         },
         {
          "ccvm": "20877",
          "num_files": 11,
          "type": "Companies"
         },
         {
          "ccvm": "21121",
          "num_files": 11,
          "type": "Companies"
         },
         {
          "ccvm": "21237",
          "num_files": 11,
          "type": "Companies"
         },
         {
          "ccvm": "21717",
          "num_files": 11,
          "type": "Companies"
         },
         {
          "ccvm": "22500",
          "num_files": 11,
          "type": "Companies"
         },
         {
          "ccvm": "22608",
          "num_files": 11,
          "type": "Companies"
         },
         {
          "ccvm": "2437",
          "num_files": 11,
          "type": "Companies"
         },
         {
          "ccvm": "8036",
          "num_files": 11,
          "type": "Companies"
         },
         {
          "ccvm": "8087",
          "num_files": 11,
          "type": "Companies"
         },
         {
          "ccvm": "906",
          "num_files": 11,
          "type": "Companies"
         },
         {
          "ccvm": "10456",
          "num_files": 11,
          "type": "Companies"
         },
         {
          "ccvm": "14524",
          "num_files": 11,
          "type": "Companies"
         },
         {
          "ccvm": "19925",
          "num_files": 11,
          "type": "Companies"
         },
         {
          "ccvm": "20192",
          "num_files": 11,
          "type": "Companies"
         },
         {
          "ccvm": "21350",
          "num_files": 11,
          "type": "Companies"
         },
         {
          "ccvm": "21377",
          "num_files": 11,
          "type": "Companies"
         },
         {
          "ccvm": "21946",
          "num_files": 11,
          "type": "Companies"
         },
         {
          "ccvm": "22055",
          "num_files": 11,
          "type": "Companies"
         },
         {
          "ccvm": "3190",
          "num_files": 11,
          "type": "Companies"
         },
         {
          "ccvm": "7510",
          "num_files": 11,
          "type": "Companies"
         },
         {
          "ccvm": "10960",
          "num_files": 11,
          "type": "Companies"
         },
         {
          "ccvm": "1210",
          "num_files": 11,
          "type": "Companies"
         },
         {
          "ccvm": "16268",
          "num_files": 11,
          "type": "Companies"
         },
         {
          "ccvm": "16306",
          "num_files": 11,
          "type": "Companies"
         },
         {
          "ccvm": "16659",
          "num_files": 11,
          "type": "Companies"
         },
         {
          "ccvm": "16772",
          "num_files": 11,
          "type": "Companies"
         },
         {
          "ccvm": "16861",
          "num_files": 11,
          "type": "Companies"
         },
         {
          "ccvm": "18414",
          "num_files": 11,
          "type": "Companies"
         },
         {
          "ccvm": "18597",
          "num_files": 11,
          "type": "Companies"
         },
         {
          "ccvm": "19364",
          "num_files": 11,
          "type": "Companies"
         },
         {
          "ccvm": "20028",
          "num_files": 11,
          "type": "Companies"
         },
         {
          "ccvm": "20800",
          "num_files": 11,
          "type": "Companies"
         },
         {
          "ccvm": "20818",
          "num_files": 11,
          "type": "Companies"
         },
         {
          "ccvm": "20982",
          "num_files": 11,
          "type": "Companies"
         },
         {
          "ccvm": "22250",
          "num_files": 11,
          "type": "Companies"
         },
         {
          "ccvm": "22616",
          "num_files": 11,
          "type": "Companies"
         },
         {
          "ccvm": "2453",
          "num_files": 11,
          "type": "Companies"
         },
         {
          "ccvm": "6505",
          "num_files": 11,
          "type": "Companies"
         },
         {
          "ccvm": "1171",
          "num_files": 10,
          "type": "Companies"
         },
         {
          "ccvm": "1384",
          "num_files": 10,
          "type": "Companies"
         },
         {
          "ccvm": "19232",
          "num_files": 10,
          "type": "Companies"
         },
         {
          "ccvm": "19593",
          "num_files": 10,
          "type": "Companies"
         },
         {
          "ccvm": "19836",
          "num_files": 10,
          "type": "Companies"
         },
         {
          "ccvm": "20745",
          "num_files": 10,
          "type": "Companies"
         },
         {
          "ccvm": "20796",
          "num_files": 10,
          "type": "Companies"
         },
         {
          "ccvm": "20885",
          "num_files": 10,
          "type": "Companies"
         },
         {
          "ccvm": "20958",
          "num_files": 10,
          "type": "Companies"
         },
         {
          "ccvm": "21393",
          "num_files": 10,
          "type": "Companies"
         },
         {
          "ccvm": "21741",
          "num_files": 10,
          "type": "Companies"
         },
         {
          "ccvm": "21849",
          "num_files": 10,
          "type": "Companies"
         },
         {
          "ccvm": "5380",
          "num_files": 10,
          "type": "Companies"
         },
         {
          "ccvm": "13285",
          "num_files": 10,
          "type": "Companies"
         },
         {
          "ccvm": "14320",
          "num_files": 10,
          "type": "Companies"
         },
         {
          "ccvm": "14460",
          "num_files": 10,
          "type": "Companies"
         },
         {
          "ccvm": "16624",
          "num_files": 10,
          "type": "Companies"
         },
         {
          "ccvm": "17779",
          "num_files": 10,
          "type": "Companies"
         },
         {
          "ccvm": "18066",
          "num_files": 10,
          "type": "Companies"
         },
         {
          "ccvm": "18376",
          "num_files": 10,
          "type": "Companies"
         },
         {
          "ccvm": "18406",
          "num_files": 10,
          "type": "Companies"
         },
         {
          "ccvm": "19330",
          "num_files": 10,
          "type": "Companies"
         },
         {
          "ccvm": "19852",
          "num_files": 10,
          "type": "Companies"
         },
         {
          "ccvm": "20087",
          "num_files": 10,
          "type": "Companies"
         },
         {
          "ccvm": "20133",
          "num_files": 10,
          "type": "Companies"
         },
         {
          "ccvm": "20141",
          "num_files": 10,
          "type": "Companies"
         },
         {
          "ccvm": "20729",
          "num_files": 10,
          "type": "Companies"
         },
         {
          "ccvm": "21431",
          "num_files": 10,
          "type": "Companies"
         },
         {
          "ccvm": "22594",
          "num_files": 10,
          "type": "Companies"
         },
         {
          "ccvm": "3050",
          "num_files": 10,
          "type": "Companies"
         },
         {
          "ccvm": "4723",
          "num_files": 10,
          "type": "Companies"
         },
         {
          "ccvm": "5576",
          "num_files": 10,
          "type": "Companies"
         },
         {
          "ccvm": "8427",
          "num_files": 10,
          "type": "Companies"
         },
         {
          "ccvm": "9393",
          "num_files": 10,
          "type": "Companies"
         },
         {
          "ccvm": "11312",
          "num_files": 10,
          "type": "Companies"
         },
         {
          "ccvm": "14303",
          "num_files": 10,
          "type": "Companies"
         },
         {
          "ccvm": "14664",
          "num_files": 10,
          "type": "Companies"
         },
         {
          "ccvm": "15822",
          "num_files": 10,
          "type": "Companies"
         },
         {
          "ccvm": "16608",
          "num_files": 10,
          "type": "Companies"
         },
         {
          "ccvm": "17914",
          "num_files": 10,
          "type": "Companies"
         },
         {
          "ccvm": "17965",
          "num_files": 10,
          "type": "Companies"
         },
         {
          "ccvm": "18287",
          "num_files": 10,
          "type": "Companies"
         },
         {
          "ccvm": "18546",
          "num_files": 10,
          "type": "Companies"
         },
         {
          "ccvm": "18775",
          "num_files": 10,
          "type": "Companies"
         },
         {
          "ccvm": "19208",
          "num_files": 10,
          "type": "Companies"
         },
         {
          "ccvm": "20036",
          "num_files": 10,
          "type": "Companies"
         },
         {
          "ccvm": "20222",
          "num_files": 10,
          "type": "Companies"
         },
         {
          "ccvm": "20320",
          "num_files": 10,
          "type": "Companies"
         },
         {
          "ccvm": "20354",
          "num_files": 10,
          "type": "Companies"
         },
         {
          "ccvm": "20451",
          "num_files": 10,
          "type": "Companies"
         },
         {
          "ccvm": "20648",
          "num_files": 10,
          "type": "Companies"
         },
         {
          "ccvm": "20680",
          "num_files": 10,
          "type": "Companies"
         },
         {
          "ccvm": "20915",
          "num_files": 10,
          "type": "Companies"
         },
         {
          "ccvm": "21008",
          "num_files": 10,
          "type": "Companies"
         },
         {
          "ccvm": "21032",
          "num_files": 10,
          "type": "Companies"
         },
         {
          "ccvm": "21725",
          "num_files": 10,
          "type": "Companies"
         },
         {
          "ccvm": "22179",
          "num_files": 10,
          "type": "Companies"
         },
         {
          "ccvm": "22187",
          "num_files": 10,
          "type": "Companies"
         },
         {
          "ccvm": "22365",
          "num_files": 10,
          "type": "Companies"
         },
         {
          "ccvm": "22390",
          "num_files": 10,
          "type": "Companies"
         },
         {
          "ccvm": "22446",
          "num_files": 10,
          "type": "Companies"
         },
         {
          "ccvm": "22551",
          "num_files": 10,
          "type": "Companies"
         },
         {
          "ccvm": "22560",
          "num_files": 10,
          "type": "Companies"
         },
         {
          "ccvm": "2461",
          "num_files": 10,
          "type": "Companies"
         },
         {
          "ccvm": "3549",
          "num_files": 10,
          "type": "Companies"
         },
         {
          "ccvm": "4170",
          "num_files": 10,
          "type": "Companies"
         },
         {
          "ccvm": "4448",
          "num_files": 10,
          "type": "Companies"
         },
         {
          "ccvm": "5762",
          "num_files": 10,
          "type": "Companies"
         },
         {
          "ccvm": "5770",
          "num_files": 10,
          "type": "Companies"
         },
         {
          "ccvm": "701",
          "num_files": 10,
          "type": "Companies"
         },
         {
          "ccvm": "7595",
          "num_files": 10,
          "type": "Companies"
         },
         {
          "ccvm": "8397",
          "num_files": 10,
          "type": "Companies"
         },
         {
          "ccvm": "922",
          "num_files": 10,
          "type": "Companies"
         },
         {
          "ccvm": "9512",
          "num_files": 10,
          "type": "Companies"
         },
         {
          "ccvm": "13773",
          "num_files": 10,
          "type": "Companies"
         },
         {
          "ccvm": "15300",
          "num_files": 10,
          "type": "Companies"
         },
         {
          "ccvm": "15369",
          "num_files": 10,
          "type": "Companies"
         },
         {
          "ccvm": "16101",
          "num_files": 10,
          "type": "Companies"
         },
         {
          "ccvm": "16616",
          "num_files": 10,
          "type": "Companies"
         },
         {
          "ccvm": "18139",
          "num_files": 10,
          "type": "Companies"
         },
         {
          "ccvm": "18309",
          "num_files": 10,
          "type": "Companies"
         },
         {
          "ccvm": "19615",
          "num_files": 10,
          "type": "Companies"
         },
         {
          "ccvm": "19860",
          "num_files": 10,
          "type": "Companies"
         },
         {
          "ccvm": "20060",
          "num_files": 10,
          "type": "Companies"
         },
         {
          "ccvm": "21024",
          "num_files": 10,
          "type": "Companies"
         },
         {
          "ccvm": "21067",
          "num_files": 10,
          "type": "Companies"
         },
         {
          "ccvm": "21180",
          "num_files": 10,
          "type": "Companies"
         },
         {
          "ccvm": "21822",
          "num_files": 10,
          "type": "Companies"
         },
         {
          "ccvm": "21881",
          "num_files": 10,
          "type": "Companies"
         },
         {
          "ccvm": "22519",
          "num_files": 10,
          "type": "Companies"
         },
         {
          "ccvm": "22780",
          "num_files": 10,
          "type": "Companies"
         },
         {
          "ccvm": "22985",
          "num_files": 10,
          "type": "Companies"
         },
         {
          "ccvm": "3204",
          "num_files": 10,
          "type": "Companies"
         },
         {
          "ccvm": "4030",
          "num_files": 10,
          "type": "Companies"
         },
         {
          "ccvm": "4146",
          "num_files": 10,
          "type": "Companies"
         },
         {
          "ccvm": "5983",
          "num_files": 10,
          "type": "Companies"
         },
         {
          "ccvm": "8893",
          "num_files": 10,
          "type": "Companies"
         },
         {
          "ccvm": "9083",
          "num_files": 10,
          "type": "Companies"
         },
         {
          "ccvm": "11207",
          "num_files": 10,
          "type": "Companies"
         },
         {
          "ccvm": "11215",
          "num_files": 10,
          "type": "Companies"
         },
         {
          "ccvm": "11592",
          "num_files": 10,
          "type": "Companies"
         },
         {
          "ccvm": "12190",
          "num_files": 10,
          "type": "Companies"
         },
         {
          "ccvm": "12572",
          "num_files": 10,
          "type": "Companies"
         },
         {
          "ccvm": "12793",
          "num_files": 10,
          "type": "Companies"
         },
         {
          "ccvm": "14311",
          "num_files": 10,
          "type": "Companies"
         },
         {
          "ccvm": "14362",
          "num_files": 10,
          "type": "Companies"
         },
         {
          "ccvm": "14451",
          "num_files": 10,
          "type": "Companies"
         },
         {
          "ccvm": "14605",
          "num_files": 10,
          "type": "Companies"
         },
         {
          "ccvm": "15083",
          "num_files": 10,
          "type": "Companies"
         },
         {
          "ccvm": "1570",
          "num_files": 10,
          "type": "Companies"
         },
         {
          "ccvm": "16292",
          "num_files": 10,
          "type": "Companies"
         },
         {
          "ccvm": "1724",
          "num_files": 10,
          "type": "Companies"
         },
         {
          "ccvm": "17388",
          "num_files": 10,
          "type": "Companies"
         },
         {
          "ccvm": "17639",
          "num_files": 10,
          "type": "Companies"
         },
         {
          "ccvm": "17671",
          "num_files": 10,
          "type": "Companies"
         },
         {
          "ccvm": "17930",
          "num_files": 10,
          "type": "Companies"
         },
         {
          "ccvm": "19186",
          "num_files": 10,
          "type": "Companies"
         },
         {
          "ccvm": "19305",
          "num_files": 10,
          "type": "Companies"
         },
         {
          "ccvm": "19771",
          "num_files": 10,
          "type": "Companies"
         },
         {
          "ccvm": "20710",
          "num_files": 10,
          "type": "Companies"
         },
         {
          "ccvm": "21520",
          "num_files": 10,
          "type": "Companies"
         },
         {
          "ccvm": "21857",
          "num_files": 10,
          "type": "Companies"
         },
         {
          "ccvm": "22349",
          "num_files": 10,
          "type": "Companies"
         },
         {
          "ccvm": "22357",
          "num_files": 10,
          "type": "Companies"
         },
         {
          "ccvm": "22675",
          "num_files": 10,
          "type": "Companies"
         },
         {
          "ccvm": "22942",
          "num_files": 10,
          "type": "Companies"
         },
         {
          "ccvm": "3077",
          "num_files": 10,
          "type": "Companies"
         },
         {
          "ccvm": "3395",
          "num_files": 10,
          "type": "Companies"
         },
         {
          "ccvm": "3654",
          "num_files": 10,
          "type": "Companies"
         },
         {
          "ccvm": "4537",
          "num_files": 10,
          "type": "Companies"
         },
         {
          "ccvm": "4669",
          "num_files": 10,
          "type": "Companies"
         },
         {
          "ccvm": "6017",
          "num_files": 10,
          "type": "Companies"
         },
         {
          "ccvm": "6041",
          "num_files": 10,
          "type": "Companies"
         },
         {
          "ccvm": "6211",
          "num_files": 10,
          "type": "Companies"
         },
         {
          "ccvm": "80047",
          "num_files": 10,
          "type": "Companies"
         },
         {
          "ccvm": "80071",
          "num_files": 10,
          "type": "Companies"
         },
         {
          "ccvm": "80110",
          "num_files": 10,
          "type": "Companies"
         },
         {
          "ccvm": "8192",
          "num_files": 10,
          "type": "Companies"
         },
         {
          "ccvm": "8605",
          "num_files": 10,
          "type": "Companies"
         },
         {
          "ccvm": "8656",
          "num_files": 10,
          "type": "Companies"
         },
         {
          "ccvm": "11223",
          "num_files": 9,
          "type": "Companies"
         },
         {
          "ccvm": "1228",
          "num_files": 9,
          "type": "Companies"
         },
         {
          "ccvm": "12530",
          "num_files": 9,
          "type": "Companies"
         },
         {
          "ccvm": "13986",
          "num_files": 9,
          "type": "Companies"
         },
         {
          "ccvm": "14176",
          "num_files": 9,
          "type": "Companies"
         },
         {
          "ccvm": "14214",
          "num_files": 9,
          "type": "Companies"
         },
         {
          "ccvm": "14346",
          "num_files": 9,
          "type": "Companies"
         },
         {
          "ccvm": "14443",
          "num_files": 9,
          "type": "Companies"
         },
         {
          "ccvm": "14613",
          "num_files": 9,
          "type": "Companies"
         },
         {
          "ccvm": "14761",
          "num_files": 9,
          "type": "Companies"
         },
         {
          "ccvm": "14966",
          "num_files": 9,
          "type": "Companies"
         },
         {
          "ccvm": "15261",
          "num_files": 9,
          "type": "Companies"
         },
         {
          "ccvm": "15636",
          "num_files": 9,
          "type": "Companies"
         },
         {
          "ccvm": "15741",
          "num_files": 9,
          "type": "Companies"
         },
         {
          "ccvm": "16284",
          "num_files": 9,
          "type": "Companies"
         },
         {
          "ccvm": "16632",
          "num_files": 9,
          "type": "Companies"
         },
         {
          "ccvm": "1694",
          "num_files": 9,
          "type": "Companies"
         },
         {
          "ccvm": "17329",
          "num_files": 9,
          "type": "Companies"
         },
         {
          "ccvm": "19011",
          "num_files": 9,
          "type": "Companies"
         },
         {
          "ccvm": "19453",
          "num_files": 9,
          "type": "Companies"
         },
         {
          "ccvm": "19623",
          "num_files": 9,
          "type": "Companies"
         },
         {
          "ccvm": "19941",
          "num_files": 9,
          "type": "Companies"
         },
         {
          "ccvm": "20044",
          "num_files": 9,
          "type": "Companies"
         },
         {
          "ccvm": "20303",
          "num_files": 9,
          "type": "Companies"
         },
         {
          "ccvm": "20338",
          "num_files": 9,
          "type": "Companies"
         },
         {
          "ccvm": "20362",
          "num_files": 9,
          "type": "Companies"
         },
         {
          "ccvm": "20397",
          "num_files": 9,
          "type": "Companies"
         },
         {
          "ccvm": "20540",
          "num_files": 9,
          "type": "Companies"
         },
         {
          "ccvm": "20966",
          "num_files": 9,
          "type": "Companies"
         },
         {
          "ccvm": "21148",
          "num_files": 9,
          "type": "Companies"
         },
         {
          "ccvm": "21156",
          "num_files": 9,
          "type": "Companies"
         },
         {
          "ccvm": "21709",
          "num_files": 9,
          "type": "Companies"
         },
         {
          "ccvm": "21830",
          "num_files": 9,
          "type": "Companies"
         },
         {
          "ccvm": "22012",
          "num_files": 9,
          "type": "Companies"
         },
         {
          "ccvm": "22934",
          "num_files": 9,
          "type": "Companies"
         },
         {
          "ccvm": "3069",
          "num_files": 9,
          "type": "Companies"
         },
         {
          "ccvm": "4774",
          "num_files": 9,
          "type": "Companies"
         },
         {
          "ccvm": "4820",
          "num_files": 9,
          "type": "Companies"
         },
         {
          "ccvm": "5312",
          "num_files": 9,
          "type": "Companies"
         },
         {
          "ccvm": "6629",
          "num_files": 9,
          "type": "Companies"
         },
         {
          "ccvm": "7870",
          "num_files": 9,
          "type": "Companies"
         },
         {
          "ccvm": "8672",
          "num_files": 9,
          "type": "Companies"
         },
         {
          "ccvm": "8745",
          "num_files": 9,
          "type": "Companies"
         },
         {
          "ccvm": "9067",
          "num_files": 9,
          "type": "Companies"
         },
         {
          "ccvm": "9415",
          "num_files": 9,
          "type": "Companies"
         },
         {
          "ccvm": "9539",
          "num_files": 9,
          "type": "Companies"
         },
         {
          "ccvm": "11975",
          "num_files": 9,
          "type": "Companies"
         },
         {
          "ccvm": "14133",
          "num_files": 9,
          "type": "Companies"
         },
         {
          "ccvm": "15342",
          "num_files": 9,
          "type": "Companies"
         },
         {
          "ccvm": "16527",
          "num_files": 9,
          "type": "Companies"
         },
         {
          "ccvm": "16586",
          "num_files": 9,
          "type": "Companies"
         },
         {
          "ccvm": "16675",
          "num_files": 9,
          "type": "Companies"
         },
         {
          "ccvm": "16705",
          "num_files": 9,
          "type": "Companies"
         },
         {
          "ccvm": "17540",
          "num_files": 9,
          "type": "Companies"
         },
         {
          "ccvm": "18821",
          "num_files": 9,
          "type": "Companies"
         },
         {
          "ccvm": "18970",
          "num_files": 9,
          "type": "Companies"
         },
         {
          "ccvm": "19062",
          "num_files": 9,
          "type": "Companies"
         },
         {
          "ccvm": "19313",
          "num_files": 9,
          "type": "Companies"
         },
         {
          "ccvm": "19577",
          "num_files": 9,
          "type": "Companies"
         },
         {
          "ccvm": "19739",
          "num_files": 9,
          "type": "Companies"
         },
         {
          "ccvm": "19992",
          "num_files": 9,
          "type": "Companies"
         },
         {
          "ccvm": "20052",
          "num_files": 9,
          "type": "Companies"
         },
         {
          "ccvm": "20125",
          "num_files": 9,
          "type": "Companies"
         },
         {
          "ccvm": "20184",
          "num_files": 9,
          "type": "Companies"
         },
         {
          "ccvm": "20370",
          "num_files": 9,
          "type": "Companies"
         },
         {
          "ccvm": "20842",
          "num_files": 9,
          "type": "Companies"
         },
         {
          "ccvm": "21440",
          "num_files": 9,
          "type": "Companies"
         },
         {
          "ccvm": "21733",
          "num_files": 9,
          "type": "Companies"
         },
         {
          "ccvm": "21920",
          "num_files": 9,
          "type": "Companies"
         },
         {
          "ccvm": "21989",
          "num_files": 9,
          "type": "Companies"
         },
         {
          "ccvm": "22233",
          "num_files": 9,
          "type": "Companies"
         },
         {
          "ccvm": "22586",
          "num_files": 9,
          "type": "Companies"
         },
         {
          "ccvm": "22683",
          "num_files": 9,
          "type": "Companies"
         },
         {
          "ccvm": "3980",
          "num_files": 9,
          "type": "Companies"
         },
         {
          "ccvm": "4359",
          "num_files": 9,
          "type": "Companies"
         },
         {
          "ccvm": "4758",
          "num_files": 9,
          "type": "Companies"
         },
         {
          "ccvm": "4782",
          "num_files": 9,
          "type": "Companies"
         },
         {
          "ccvm": "4863",
          "num_files": 9,
          "type": "Companies"
         },
         {
          "ccvm": "6700",
          "num_files": 9,
          "type": "Companies"
         },
         {
          "ccvm": "80020",
          "num_files": 9,
          "type": "Companies"
         },
         {
          "ccvm": "80152",
          "num_files": 9,
          "type": "Companies"
         },
         {
          "ccvm": "9040",
          "num_files": 9,
          "type": "Companies"
         },
         {
          "ccvm": "11231",
          "num_files": 9,
          "type": "Companies"
         },
         {
          "ccvm": "12823",
          "num_files": 9,
          "type": "Companies"
         },
         {
          "ccvm": "13854",
          "num_files": 9,
          "type": "Companies"
         },
         {
          "ccvm": "14109",
          "num_files": 9,
          "type": "Companies"
         },
         {
          "ccvm": "14923",
          "num_files": 9,
          "type": "Companies"
         },
         {
          "ccvm": "15024",
          "num_files": 9,
          "type": "Companies"
         },
         {
          "ccvm": "15091",
          "num_files": 9,
          "type": "Companies"
         },
         {
          "ccvm": "15121",
          "num_files": 9,
          "type": "Companies"
         },
         {
          "ccvm": "1520",
          "num_files": 9,
          "type": "Companies"
         },
         {
          "ccvm": "15407",
          "num_files": 9,
          "type": "Companies"
         },
         {
          "ccvm": "15458",
          "num_files": 9,
          "type": "Companies"
         },
         {
          "ccvm": "15709",
          "num_files": 9,
          "type": "Companies"
         },
         {
          "ccvm": "16209",
          "num_files": 9,
          "type": "Companies"
         },
         {
          "ccvm": "16373",
          "num_files": 9,
          "type": "Companies"
         },
         {
          "ccvm": "16438",
          "num_files": 9,
          "type": "Companies"
         },
         {
          "ccvm": "16446",
          "num_files": 9,
          "type": "Companies"
         },
         {
          "ccvm": "16497",
          "num_files": 9,
          "type": "Companies"
         },
         {
          "ccvm": "16560",
          "num_files": 9,
          "type": "Companies"
         },
         {
          "ccvm": "17337",
          "num_files": 9,
          "type": "Companies"
         },
         {
          "ccvm": "17485",
          "num_files": 9,
          "type": "Companies"
         },
         {
          "ccvm": "17493",
          "num_files": 9,
          "type": "Companies"
         },
         {
          "ccvm": "17850",
          "num_files": 9,
          "type": "Companies"
         },
         {
          "ccvm": "17892",
          "num_files": 9,
          "type": "Companies"
         },
         {
          "ccvm": "18333",
          "num_files": 9,
          "type": "Companies"
         },
         {
          "ccvm": "18465",
          "num_files": 9,
          "type": "Companies"
         },
         {
          "ccvm": "18589",
          "num_files": 9,
          "type": "Companies"
         },
         {
          "ccvm": "18708",
          "num_files": 9,
          "type": "Companies"
         },
         {
          "ccvm": "18724",
          "num_files": 9,
          "type": "Companies"
         },
         {
          "ccvm": "18953",
          "num_files": 9,
          "type": "Companies"
         },
         {
          "ccvm": "19097",
          "num_files": 9,
          "type": "Companies"
         },
         {
          "ccvm": "19640",
          "num_files": 9,
          "type": "Companies"
         },
         {
          "ccvm": "19984",
          "num_files": 9,
          "type": "Companies"
         },
         {
          "ccvm": "20001",
          "num_files": 9,
          "type": "Companies"
         },
         {
          "ccvm": "2100",
          "num_files": 9,
          "type": "Companies"
         },
         {
          "ccvm": "21130",
          "num_files": 9,
          "type": "Companies"
         },
         {
          "ccvm": "21202",
          "num_files": 9,
          "type": "Companies"
         },
         {
          "ccvm": "21466",
          "num_files": 9,
          "type": "Companies"
         },
         {
          "ccvm": "21628",
          "num_files": 9,
          "type": "Companies"
         },
         {
          "ccvm": "21750",
          "num_files": 9,
          "type": "Companies"
         },
         {
          "ccvm": "21903",
          "num_files": 9,
          "type": "Companies"
         },
         {
          "ccvm": "21962",
          "num_files": 9,
          "type": "Companies"
         },
         {
          "ccvm": "22080",
          "num_files": 9,
          "type": "Companies"
         },
         {
          "ccvm": "22144",
          "num_files": 9,
          "type": "Companies"
         },
         {
          "ccvm": "22160",
          "num_files": 9,
          "type": "Companies"
         },
         {
          "ccvm": "22420",
          "num_files": 9,
          "type": "Companies"
         },
         {
          "ccvm": "22489",
          "num_files": 9,
          "type": "Companies"
         },
         {
          "ccvm": "22497",
          "num_files": 9,
          "type": "Companies"
         },
         {
          "ccvm": "22721",
          "num_files": 9,
          "type": "Companies"
         },
         {
          "ccvm": "23019",
          "num_files": 9,
          "type": "Companies"
         },
         {
          "ccvm": "23035",
          "num_files": 9,
          "type": "Companies"
         },
         {
          "ccvm": "23175",
          "num_files": 9,
          "type": "Companies"
         },
         {
          "ccvm": "23221",
          "num_files": 9,
          "type": "Companies"
         },
         {
          "ccvm": "2429",
          "num_files": 9,
          "type": "Companies"
         },
         {
          "ccvm": "2577",
          "num_files": 9,
          "type": "Companies"
         },
         {
          "ccvm": "3891",
          "num_files": 9,
          "type": "Companies"
         },
         {
          "ccvm": "4707",
          "num_files": 9,
          "type": "Companies"
         },
         {
          "ccvm": "5410",
          "num_files": 9,
          "type": "Companies"
         },
         {
          "ccvm": "7617",
          "num_files": 9,
          "type": "Companies"
         },
         {
          "ccvm": "9342",
          "num_files": 9,
          "type": "Companies"
         },
         {
          "ccvm": "9954",
          "num_files": 9,
          "type": "Companies"
         },
         {
          "ccvm": "10472",
          "num_files": 8,
          "type": "Companies"
         },
         {
          "ccvm": "12696",
          "num_files": 8,
          "type": "Companies"
         },
         {
          "ccvm": "12858",
          "num_files": 8,
          "type": "Companies"
         },
         {
          "ccvm": "13366",
          "num_files": 8,
          "type": "Companies"
         },
         {
          "ccvm": "13471",
          "num_files": 8,
          "type": "Companies"
         },
         {
          "ccvm": "14818",
          "num_files": 8,
          "type": "Companies"
         },
         {
          "ccvm": "15199",
          "num_files": 8,
          "type": "Companies"
         },
         {
          "ccvm": "1562",
          "num_files": 8,
          "type": "Companies"
         },
         {
          "ccvm": "15695",
          "num_files": 8,
          "type": "Companies"
         },
         {
          "ccvm": "15865",
          "num_files": 8,
          "type": "Companies"
         },
         {
          "ccvm": "1597",
          "num_files": 8,
          "type": "Companies"
         },
         {
          "ccvm": "16942",
          "num_files": 8,
          "type": "Companies"
         },
         {
          "ccvm": "16985",
          "num_files": 8,
          "type": "Companies"
         },
         {
          "ccvm": "16993",
          "num_files": 8,
          "type": "Companies"
         },
         {
          "ccvm": "17434",
          "num_files": 8,
          "type": "Companies"
         },
         {
          "ccvm": "17884",
          "num_files": 8,
          "type": "Companies"
         },
         {
          "ccvm": "17922",
          "num_files": 8,
          "type": "Companies"
         },
         {
          "ccvm": "17949",
          "num_files": 8,
          "type": "Companies"
         },
         {
          "ccvm": "18368",
          "num_files": 8,
          "type": "Companies"
         },
         {
          "ccvm": "18538",
          "num_files": 8,
          "type": "Companies"
         },
         {
          "ccvm": "18554",
          "num_files": 8,
          "type": "Companies"
         },
         {
          "ccvm": "18759",
          "num_files": 8,
          "type": "Companies"
         },
         {
          "ccvm": "19135",
          "num_files": 8,
          "type": "Companies"
         },
         {
          "ccvm": "19151",
          "num_files": 8,
          "type": "Companies"
         },
         {
          "ccvm": "19275",
          "num_files": 8,
          "type": "Companies"
         },
         {
          "ccvm": "19747",
          "num_files": 8,
          "type": "Companies"
         },
         {
          "ccvm": "20559",
          "num_files": 8,
          "type": "Companies"
         },
         {
          "ccvm": "20605",
          "num_files": 8,
          "type": "Companies"
         },
         {
          "ccvm": "20613",
          "num_files": 8,
          "type": "Companies"
         },
         {
          "ccvm": "20672",
          "num_files": 8,
          "type": "Companies"
         },
         {
          "ccvm": "20770",
          "num_files": 8,
          "type": "Companies"
         },
         {
          "ccvm": "21091",
          "num_files": 8,
          "type": "Companies"
         },
         {
          "ccvm": "21105",
          "num_files": 8,
          "type": "Companies"
         },
         {
          "ccvm": "21334",
          "num_files": 8,
          "type": "Companies"
         },
         {
          "ccvm": "21814",
          "num_files": 8,
          "type": "Companies"
         },
         {
          "ccvm": "21997",
          "num_files": 8,
          "type": "Companies"
         },
         {
          "ccvm": "22004",
          "num_files": 8,
          "type": "Companies"
         },
         {
          "ccvm": "22411",
          "num_files": 8,
          "type": "Companies"
         },
         {
          "ccvm": "22659",
          "num_files": 8,
          "type": "Companies"
         },
         {
          "ccvm": "22799",
          "num_files": 8,
          "type": "Companies"
         },
         {
          "ccvm": "3158",
          "num_files": 8,
          "type": "Companies"
         },
         {
          "ccvm": "3298",
          "num_files": 8,
          "type": "Companies"
         },
         {
          "ccvm": "3328",
          "num_files": 8,
          "type": "Companies"
         },
         {
          "ccvm": "4685",
          "num_files": 8,
          "type": "Companies"
         },
         {
          "ccvm": "94",
          "num_files": 8,
          "type": "Companies"
         },
         {
          "ccvm": "11932",
          "num_files": 8,
          "type": "Companies"
         },
         {
          "ccvm": "13439",
          "num_files": 8,
          "type": "Companies"
         },
         {
          "ccvm": "13765",
          "num_files": 8,
          "type": "Companies"
         },
         {
          "ccvm": "14850",
          "num_files": 8,
          "type": "Companies"
         },
         {
          "ccvm": "15423",
          "num_files": 8,
          "type": "Companies"
         },
         {
          "ccvm": "15717",
          "num_files": 8,
          "type": "Companies"
         },
         {
          "ccvm": "15784",
          "num_files": 8,
          "type": "Companies"
         },
         {
          "ccvm": "16535",
          "num_files": 8,
          "type": "Companies"
         },
         {
          "ccvm": "16551",
          "num_files": 8,
          "type": "Companies"
         },
         {
          "ccvm": "16748",
          "num_files": 8,
          "type": "Companies"
         },
         {
          "ccvm": "17418",
          "num_files": 8,
          "type": "Companies"
         },
         {
          "ccvm": "17868",
          "num_files": 8,
          "type": "Companies"
         },
         {
          "ccvm": "18236",
          "num_files": 8,
          "type": "Companies"
         },
         {
          "ccvm": "18430",
          "num_files": 8,
          "type": "Companies"
         },
         {
          "ccvm": "18660",
          "num_files": 8,
          "type": "Companies"
         },
         {
          "ccvm": "19119",
          "num_files": 8,
          "type": "Companies"
         },
         {
          "ccvm": "19224",
          "num_files": 8,
          "type": "Companies"
         },
         {
          "ccvm": "19437",
          "num_files": 8,
          "type": "Companies"
         },
         {
          "ccvm": "19470",
          "num_files": 8,
          "type": "Companies"
         },
         {
          "ccvm": "20443",
          "num_files": 8,
          "type": "Companies"
         },
         {
          "ccvm": "20630",
          "num_files": 8,
          "type": "Companies"
         },
         {
          "ccvm": "21040",
          "num_files": 8,
          "type": "Companies"
         },
         {
          "ccvm": "21075",
          "num_files": 8,
          "type": "Companies"
         },
         {
          "ccvm": "21610",
          "num_files": 8,
          "type": "Companies"
         },
         {
          "ccvm": "22225",
          "num_files": 8,
          "type": "Companies"
         },
         {
          "ccvm": "22543",
          "num_files": 8,
          "type": "Companies"
         },
         {
          "ccvm": "22764",
          "num_files": 8,
          "type": "Companies"
         },
         {
          "ccvm": "22845",
          "num_files": 8,
          "type": "Companies"
         },
         {
          "ccvm": "23000",
          "num_files": 8,
          "type": "Companies"
         },
         {
          "ccvm": "23310",
          "num_files": 8,
          "type": "Companies"
         },
         {
          "ccvm": "3115",
          "num_files": 8,
          "type": "Companies"
         },
         {
          "ccvm": "3271",
          "num_files": 8,
          "type": "Companies"
         },
         {
          "ccvm": "3824",
          "num_files": 8,
          "type": "Companies"
         },
         {
          "ccvm": "4081",
          "num_files": 8,
          "type": "Companies"
         },
         {
          "ccvm": "4693",
          "num_files": 8,
          "type": "Companies"
         },
         {
          "ccvm": "5207",
          "num_files": 8,
          "type": "Companies"
         },
         {
          "ccvm": "5258",
          "num_files": 8,
          "type": "Companies"
         },
         {
          "ccvm": "6076",
          "num_files": 8,
          "type": "Companies"
         },
         {
          "ccvm": "8117",
          "num_files": 8,
          "type": "Companies"
         },
         {
          "ccvm": "8133",
          "num_files": 8,
          "type": "Companies"
         },
         {
          "ccvm": "8451",
          "num_files": 8,
          "type": "Companies"
         },
         {
          "ccvm": "8575",
          "num_files": 8,
          "type": "Companies"
         },
         {
          "ccvm": "10561",
          "num_files": 8,
          "type": "Companies"
         },
         {
          "ccvm": "11991",
          "num_files": 8,
          "type": "Companies"
         },
         {
          "ccvm": "13030",
          "num_files": 8,
          "type": "Companies"
         },
         {
          "ccvm": "1309",
          "num_files": 8,
          "type": "Companies"
         },
         {
          "ccvm": "13781",
          "num_files": 8,
          "type": "Companies"
         },
         {
          "ccvm": "14168",
          "num_files": 8,
          "type": "Companies"
         },
         {
          "ccvm": "15733",
          "num_files": 8,
          "type": "Companies"
         },
         {
          "ccvm": "18996",
          "num_files": 8,
          "type": "Companies"
         },
         {
          "ccvm": "19429",
          "num_files": 8,
          "type": "Companies"
         },
         {
          "ccvm": "19704",
          "num_files": 8,
          "type": "Companies"
         },
         {
          "ccvm": "19720",
          "num_files": 8,
          "type": "Companies"
         },
         {
          "ccvm": "19844",
          "num_files": 8,
          "type": "Companies"
         },
         {
          "ccvm": "20516",
          "num_files": 8,
          "type": "Companies"
         },
         {
          "ccvm": "20702",
          "num_files": 8,
          "type": "Companies"
         },
         {
          "ccvm": "21482",
          "num_files": 8,
          "type": "Companies"
         },
         {
          "ccvm": "21938",
          "num_files": 8,
          "type": "Companies"
         },
         {
          "ccvm": "22632",
          "num_files": 8,
          "type": "Companies"
         },
         {
          "ccvm": "22802",
          "num_files": 8,
          "type": "Companies"
         },
         {
          "ccvm": "8540",
          "num_files": 8,
          "type": "Companies"
         },
         {
          "ccvm": "8753",
          "num_files": 8,
          "type": "Companies"
         },
         {
          "ccvm": "8818",
          "num_files": 8,
          "type": "Companies"
         },
         {
          "ccvm": "9520",
          "num_files": 8,
          "type": "Companies"
         },
         {
          "ccvm": "9717",
          "num_files": 8,
          "type": "Companies"
         },
         {
          "ccvm": "12262",
          "num_files": 8,
          "type": "Companies"
         },
         {
          "ccvm": "13447",
          "num_files": 8,
          "type": "Companies"
         },
         {
          "ccvm": "17558",
          "num_files": 8,
          "type": "Companies"
         },
         {
          "ccvm": "18716",
          "num_files": 8,
          "type": "Companies"
         },
         {
          "ccvm": "19895",
          "num_files": 8,
          "type": "Companies"
         },
         {
          "ccvm": "20150",
          "num_files": 8,
          "type": "Companies"
         },
         {
          "ccvm": "20265",
          "num_files": 8,
          "type": "Companies"
         },
         {
          "ccvm": "22810",
          "num_files": 8,
          "type": "Companies"
         },
         {
          "ccvm": "22977",
          "num_files": 8,
          "type": "Companies"
         },
         {
          "ccvm": "23060",
          "num_files": 8,
          "type": "Companies"
         },
         {
          "ccvm": "23280",
          "num_files": 8,
          "type": "Companies"
         },
         {
          "ccvm": "15652",
          "num_files": 8,
          "type": "Companies"
         },
         {
          "ccvm": "17590",
          "num_files": 8,
          "type": "Companies"
         },
         {
          "ccvm": "21792",
          "num_files": 8,
          "type": "Companies"
         },
         {
          "ccvm": "23159",
          "num_files": 8,
          "type": "Companies"
         },
         {
          "ccvm": "23302",
          "num_files": 8,
          "type": "Companies"
         },
         {
          "ccvm": "6955",
          "num_files": 8,
          "type": "Companies"
         },
         {
          "ccvm": "80128",
          "num_files": 8,
          "type": "Companies"
         },
         {
          "ccvm": "16233",
          "num_files": 7,
          "type": "Companies"
         },
         {
          "ccvm": "19607",
          "num_files": 7,
          "type": "Companies"
         },
         {
          "ccvm": "1970",
          "num_files": 7,
          "type": "Companies"
         },
         {
          "ccvm": "20389",
          "num_files": 7,
          "type": "Companies"
         },
         {
          "ccvm": "21601",
          "num_files": 7,
          "type": "Companies"
         },
         {
          "ccvm": "22853",
          "num_files": 7,
          "type": "Companies"
         },
         {
          "ccvm": "22926",
          "num_files": 7,
          "type": "Companies"
         },
         {
          "ccvm": "23515",
          "num_files": 7,
          "type": "Companies"
         },
         {
          "ccvm": "2488",
          "num_files": 7,
          "type": "Companies"
         },
         {
          "ccvm": "1686",
          "num_files": 7,
          "type": "Companies"
         },
         {
          "ccvm": "19356",
          "num_files": 7,
          "type": "Companies"
         },
         {
          "ccvm": "20656",
          "num_files": 7,
          "type": "Companies"
         },
         {
          "ccvm": "20974",
          "num_files": 7,
          "type": "Companies"
         },
         {
          "ccvm": "21113",
          "num_files": 7,
          "type": "Companies"
         },
         {
          "ccvm": "22136",
          "num_files": 7,
          "type": "Companies"
         },
         {
          "ccvm": "23388",
          "num_files": 7,
          "type": "Companies"
         },
         {
          "ccvm": "80063",
          "num_files": 7,
          "type": "Companies"
         },
         {
          "ccvm": "14915",
          "num_files": 7,
          "type": "Companies"
         },
         {
          "ccvm": "15890",
          "num_files": 7,
          "type": "Companies"
         },
         {
          "ccvm": "17361",
          "num_files": 7,
          "type": "Companies"
         },
         {
          "ccvm": "23167",
          "num_files": 7,
          "type": "Companies"
         },
         {
          "ccvm": "23272",
          "num_files": 7,
          "type": "Companies"
         },
         {
          "ccvm": "23426",
          "num_files": 7,
          "type": "Companies"
         },
         {
          "ccvm": "23523",
          "num_files": 7,
          "type": "Companies"
         },
         {
          "ccvm": "18104",
          "num_files": 6,
          "type": "Companies"
         },
         {
          "ccvm": "19542",
          "num_files": 6,
          "type": "Companies"
         },
         {
          "ccvm": "19917",
          "num_files": 6,
          "type": "Companies"
         },
         {
          "ccvm": "22128",
          "num_files": 6,
          "type": "Companies"
         },
         {
          "ccvm": "22578",
          "num_files": 6,
          "type": "Companies"
         },
         {
          "ccvm": "22829",
          "num_files": 6,
          "type": "Companies"
         },
         {
          "ccvm": "22861",
          "num_files": 6,
          "type": "Companies"
         },
         {
          "ccvm": "23132",
          "num_files": 6,
          "type": "Companies"
         },
         {
          "ccvm": "23205",
          "num_files": 6,
          "type": "Companies"
         },
         {
          "ccvm": "23248",
          "num_files": 6,
          "type": "Companies"
         },
         {
          "ccvm": "23329",
          "num_files": 6,
          "type": "Companies"
         },
         {
          "ccvm": "15113",
          "num_files": 6,
          "type": "Companies"
         },
         {
          "ccvm": "15377",
          "num_files": 6,
          "type": "Companies"
         },
         {
          "ccvm": "19070",
          "num_files": 6,
          "type": "Companies"
         },
         {
          "ccvm": "19380",
          "num_files": 6,
          "type": "Companies"
         },
         {
          "ccvm": "19518",
          "num_files": 6,
          "type": "Companies"
         },
         {
          "ccvm": "20508",
          "num_files": 6,
          "type": "Companies"
         },
         {
          "ccvm": "21652",
          "num_files": 6,
          "type": "Companies"
         },
         {
          "ccvm": "23264",
          "num_files": 6,
          "type": "Companies"
         },
         {
          "ccvm": "23485",
          "num_files": 6,
          "type": "Companies"
         },
         {
          "ccvm": "11800",
          "num_files": 6,
          "type": "Companies"
         },
         {
          "ccvm": "18678",
          "num_files": 6,
          "type": "Companies"
         },
         {
          "ccvm": "18961",
          "num_files": 6,
          "type": "Companies"
         },
         {
          "ccvm": "20907",
          "num_files": 6,
          "type": "Companies"
         },
         {
          "ccvm": "21687",
          "num_files": 6,
          "type": "Companies"
         },
         {
          "ccvm": "22381",
          "num_files": 6,
          "type": "Companies"
         },
         {
          "ccvm": "22950",
          "num_files": 6,
          "type": "Companies"
         },
         {
          "ccvm": "23337",
          "num_files": 6,
          "type": "Companies"
         },
         {
          "ccvm": "23353",
          "num_files": 6,
          "type": "Companies"
         },
         {
          "ccvm": "23540",
          "num_files": 6,
          "type": "Companies"
         },
         {
          "ccvm": "23825",
          "num_files": 6,
          "type": "Companies"
         },
         {
          "ccvm": "19372",
          "num_files": 6,
          "type": "Companies"
         },
         {
          "ccvm": "19976",
          "num_files": 6,
          "type": "Companies"
         },
         {
          "ccvm": "20230",
          "num_files": 6,
          "type": "Companies"
         },
         {
          "ccvm": "23230",
          "num_files": 6,
          "type": "Companies"
         },
         {
          "ccvm": "23418",
          "num_files": 6,
          "type": "Companies"
         },
         {
          "ccvm": "23574",
          "num_files": 6,
          "type": "Companies"
         },
         {
          "ccvm": "3174",
          "num_files": 6,
          "type": "Companies"
         },
         {
          "ccvm": "3450",
          "num_files": 6,
          "type": "Companies"
         },
         {
          "ccvm": "80160",
          "num_files": 6,
          "type": "Companies"
         },
         {
          "ccvm": "10596",
          "num_files": 6,
          "type": "Companies"
         },
         {
          "ccvm": "18350",
          "num_files": 6,
          "type": "Companies"
         },
         {
          "ccvm": "19526",
          "num_files": 6,
          "type": "Companies"
         },
         {
          "ccvm": "19810",
          "num_files": 6,
          "type": "Companies"
         },
         {
          "ccvm": "2038",
          "num_files": 6,
          "type": "Companies"
         },
         {
          "ccvm": "21865",
          "num_files": 6,
          "type": "Companies"
         },
         {
          "ccvm": "22047",
          "num_files": 6,
          "type": "Companies"
         },
         {
          "ccvm": "22330",
          "num_files": 6,
          "type": "Companies"
         },
         {
          "ccvm": "22373",
          "num_files": 6,
          "type": "Companies"
         },
         {
          "ccvm": "22772",
          "num_files": 6,
          "type": "Companies"
         },
         {
          "ccvm": "23434",
          "num_files": 6,
          "type": "Companies"
         },
         {
          "ccvm": "23531",
          "num_files": 6,
          "type": "Companies"
         },
         {
          "ccvm": "4057",
          "num_files": 6,
          "type": "Companies"
         },
         {
          "ccvm": "17442",
          "num_files": 5,
          "type": "Companies"
         },
         {
          "ccvm": "19755",
          "num_files": 5,
          "type": "Companies"
         },
         {
          "ccvm": "20850",
          "num_files": 5,
          "type": "Companies"
         },
         {
          "ccvm": "21695",
          "num_files": 5,
          "type": "Companies"
         },
         {
          "ccvm": "21954",
          "num_files": 5,
          "type": "Companies"
         },
         {
          "ccvm": "23140",
          "num_files": 5,
          "type": "Companies"
         },
         {
          "ccvm": "23183",
          "num_files": 5,
          "type": "Companies"
         },
         {
          "ccvm": "23493",
          "num_files": 5,
          "type": "Companies"
         },
         {
          "ccvm": "23558",
          "num_files": 5,
          "type": "Companies"
         },
         {
          "ccvm": "3336",
          "num_files": 5,
          "type": "Companies"
         },
         {
          "ccvm": "15849",
          "num_files": 5,
          "type": "Companies"
         },
         {
          "ccvm": "16225",
          "num_files": 5,
          "type": "Companies"
         },
         {
          "ccvm": "16330",
          "num_files": 5,
          "type": "Companies"
         },
         {
          "ccvm": "16950",
          "num_files": 5,
          "type": "Companies"
         },
         {
          "ccvm": "19690",
          "num_files": 5,
          "type": "Companies"
         },
         {
          "ccvm": "22993",
          "num_files": 5,
          "type": "Companies"
         },
         {
          "ccvm": "23370",
          "num_files": 5,
          "type": "Companies"
         },
         {
          "ccvm": "23477",
          "num_files": 5,
          "type": "Companies"
         },
         {
          "ccvm": "23590",
          "num_files": 5,
          "type": "Companies"
         },
         {
          "ccvm": "23701",
          "num_files": 5,
          "type": "Companies"
         },
         {
          "ccvm": "2909",
          "num_files": 5,
          "type": "Companies"
         },
         {
          "ccvm": "14621",
          "num_files": 5,
          "type": "Companies"
         },
         {
          "ccvm": "18490",
          "num_files": 5,
          "type": "Companies"
         },
         {
          "ccvm": "22039",
          "num_files": 5,
          "type": "Companies"
         },
         {
          "ccvm": "23396",
          "num_files": 5,
          "type": "Companies"
         },
         {
          "ccvm": "23442",
          "num_files": 5,
          "type": "Companies"
         },
         {
          "ccvm": "23469",
          "num_files": 5,
          "type": "Companies"
         },
         {
          "ccvm": "23507",
          "num_files": 5,
          "type": "Companies"
         },
         {
          "ccvm": "23710",
          "num_files": 5,
          "type": "Companies"
         },
         {
          "ccvm": "23728",
          "num_files": 5,
          "type": "Companies"
         },
         {
          "ccvm": "23809",
          "num_files": 5,
          "type": "Companies"
         },
         {
          "ccvm": "23876",
          "num_files": 5,
          "type": "Companies"
         },
         {
          "ccvm": "80101",
          "num_files": 5,
          "type": "Companies"
         },
         {
          "ccvm": "80136",
          "num_files": 5,
          "type": "Companies"
         },
         {
          "ccvm": "13790",
          "num_files": 4,
          "type": "Companies"
         },
         {
          "ccvm": "14559",
          "num_files": 4,
          "type": "Companies"
         },
         {
          "ccvm": "23604",
          "num_files": 4,
          "type": "Companies"
         },
         {
          "ccvm": "23612",
          "num_files": 4,
          "type": "Companies"
         },
         {
          "ccvm": "23760",
          "num_files": 4,
          "type": "Companies"
         },
         {
          "ccvm": "23817",
          "num_files": 4,
          "type": "Companies"
         },
         {
          "ccvm": "23833",
          "num_files": 4,
          "type": "Companies"
         },
         {
          "ccvm": "23892",
          "num_files": 4,
          "type": "Companies"
         },
         {
          "ccvm": "8648",
          "num_files": 4,
          "type": "Companies"
         },
         {
          "ccvm": "12866",
          "num_files": 4,
          "type": "Companies"
         },
         {
          "ccvm": "17647",
          "num_files": 4,
          "type": "Companies"
         },
         {
          "ccvm": "17787",
          "num_files": 4,
          "type": "Companies"
         },
         {
          "ccvm": "21261",
          "num_files": 4,
          "type": "Companies"
         },
         {
          "ccvm": "23094",
          "num_files": 4,
          "type": "Companies"
         },
         {
          "ccvm": "23582",
          "num_files": 4,
          "type": "Companies"
         },
         {
          "ccvm": "23620",
          "num_files": 4,
          "type": "Companies"
         },
         {
          "ccvm": "23639",
          "num_files": 4,
          "type": "Companies"
         },
         {
          "ccvm": "23884",
          "num_files": 4,
          "type": "Companies"
         },
         {
          "ccvm": "5150",
          "num_files": 4,
          "type": "Companies"
         },
         {
          "ccvm": "18651",
          "num_files": 4,
          "type": "Companies"
         },
         {
          "ccvm": "19798",
          "num_files": 4,
          "type": "Companies"
         },
         {
          "ccvm": "20079",
          "num_files": 4,
          "type": "Companies"
         },
         {
          "ccvm": "21580",
          "num_files": 4,
          "type": "Companies"
         },
         {
          "ccvm": "21784",
          "num_files": 4,
          "type": "Companies"
         },
         {
          "ccvm": "22438",
          "num_files": 4,
          "type": "Companies"
         },
         {
          "ccvm": "22640",
          "num_files": 4,
          "type": "Companies"
         },
         {
          "ccvm": "23116",
          "num_files": 4,
          "type": "Companies"
         },
         {
          "ccvm": "23566",
          "num_files": 4,
          "type": "Companies"
         },
         {
          "ccvm": "23671",
          "num_files": 4,
          "type": "Companies"
         },
         {
          "ccvm": "23680",
          "num_files": 4,
          "type": "Companies"
         },
         {
          "ccvm": "23744",
          "num_files": 4,
          "type": "Companies"
         },
         {
          "ccvm": "23868",
          "num_files": 4,
          "type": "Companies"
         },
         {
          "ccvm": "23906",
          "num_files": 4,
          "type": "Companies"
         },
         {
          "ccvm": "24058",
          "num_files": 4,
          "type": "Companies"
         },
         {
          "ccvm": "80098",
          "num_files": 4,
          "type": "Companies"
         },
         {
          "ccvm": "19585",
          "num_files": 4,
          "type": "Companies"
         },
         {
          "ccvm": "20753",
          "num_files": 4,
          "type": "Companies"
         },
         {
          "ccvm": "21172",
          "num_files": 4,
          "type": "Companies"
         },
         {
          "ccvm": "22209",
          "num_files": 4,
          "type": "Companies"
         },
         {
          "ccvm": "22756",
          "num_files": 4,
          "type": "Companies"
         },
         {
          "ccvm": "23345",
          "num_files": 4,
          "type": "Companies"
         },
         {
          "ccvm": "23698",
          "num_files": 4,
          "type": "Companies"
         },
         {
          "ccvm": "23795",
          "num_files": 4,
          "type": "Companies"
         },
         {
          "ccvm": "23841",
          "num_files": 4,
          "type": "Companies"
         },
         {
          "ccvm": "23850",
          "num_files": 4,
          "type": "Companies"
         },
         {
          "ccvm": "23922",
          "num_files": 4,
          "type": "Companies"
         },
         {
          "ccvm": "23957",
          "num_files": 4,
          "type": "Companies"
         },
         {
          "ccvm": "7978",
          "num_files": 4,
          "type": "Companies"
         },
         {
          "ccvm": "80144",
          "num_files": 4,
          "type": "Companies"
         },
         {
          "ccvm": "18279",
          "num_files": 4,
          "type": "Companies"
         },
         {
          "ccvm": "20176",
          "num_files": 4,
          "type": "Companies"
         },
         {
          "ccvm": "21245",
          "num_files": 4,
          "type": "Companies"
         },
         {
          "ccvm": "21563",
          "num_files": 4,
          "type": "Companies"
         },
         {
          "ccvm": "23981",
          "num_files": 4,
          "type": "Companies"
         },
         {
          "ccvm": "23990",
          "num_files": 4,
          "type": "Companies"
         },
         {
          "ccvm": "24074",
          "num_files": 4,
          "type": "Companies"
         },
         {
          "ccvm": "3182",
          "num_files": 4,
          "type": "Companies"
         },
         {
          "ccvm": "5991",
          "num_files": 4,
          "type": "Companies"
         },
         {
          "ccvm": "80080",
          "num_files": 4,
          "type": "Companies"
         },
         {
          "ccvm": "18112",
          "num_files": 3,
          "type": "Companies"
         },
         {
          "ccvm": "20893",
          "num_files": 3,
          "type": "Companies"
         },
         {
          "ccvm": "22110",
          "num_files": 3,
          "type": "Companies"
         },
         {
          "ccvm": "22969",
          "num_files": 3,
          "type": "Companies"
         },
         {
          "ccvm": "23108",
          "num_files": 3,
          "type": "Companies"
         },
         {
          "ccvm": "23930",
          "num_files": 3,
          "type": "Companies"
         },
         {
          "ccvm": "23965",
          "num_files": 3,
          "type": "Companies"
         },
         {
          "ccvm": "7064",
          "num_files": 3,
          "type": "Companies"
         },
         {
          "ccvm": "11606",
          "num_files": 3,
          "type": "Companies"
         },
         {
          "ccvm": "20834",
          "num_files": 3,
          "type": "Companies"
         },
         {
          "ccvm": "21806",
          "num_files": 3,
          "type": "Companies"
         },
         {
          "ccvm": "22730",
          "num_files": 3,
          "type": "Companies"
         },
         {
          "ccvm": "23450",
          "num_files": 3,
          "type": "Companies"
         },
         {
          "ccvm": "23736",
          "num_files": 3,
          "type": "Companies"
         },
         {
          "ccvm": "23752",
          "num_files": 3,
          "type": "Companies"
         },
         {
          "ccvm": "23949",
          "num_files": 3,
          "type": "Companies"
         },
         {
          "ccvm": "24015",
          "num_files": 3,
          "type": "Companies"
         },
         {
          "ccvm": "24040",
          "num_files": 3,
          "type": "Companies"
         },
         {
          "ccvm": "4111",
          "num_files": 3,
          "type": "Companies"
         },
         {
          "ccvm": "5827",
          "num_files": 3,
          "type": "Companies"
         },
         {
          "ccvm": "21539",
          "num_files": 3,
          "type": "Companies"
         },
         {
          "ccvm": "21970",
          "num_files": 3,
          "type": "Companies"
         },
         {
          "ccvm": "23914",
          "num_files": 3,
          "type": "Companies"
         },
         {
          "ccvm": "24066",
          "num_files": 3,
          "type": "Companies"
         },
         {
          "ccvm": "24090",
          "num_files": 3,
          "type": "Companies"
         },
         {
          "ccvm": "24104",
          "num_files": 3,
          "type": "Companies"
         },
         {
          "ccvm": "24163",
          "num_files": 3,
          "type": "Companies"
         },
         {
          "ccvm": "24260",
          "num_files": 3,
          "type": "Companies"
         },
         {
          "ccvm": "12840",
          "num_files": 2,
          "type": "Companies"
         },
         {
          "ccvm": "14680",
          "num_files": 2,
          "type": "Companies"
         },
         {
          "ccvm": "14796",
          "num_files": 2,
          "type": "Companies"
         },
         {
          "ccvm": "20486",
          "num_files": 2,
          "type": "Companies"
         },
         {
          "ccvm": "23078",
          "num_files": 2,
          "type": "Companies"
         },
         {
          "ccvm": "23213",
          "num_files": 2,
          "type": "Companies"
         },
         {
          "ccvm": "23299",
          "num_files": 2,
          "type": "Companies"
         },
         {
          "ccvm": "23973",
          "num_files": 2,
          "type": "Companies"
         },
         {
          "ccvm": "24171",
          "num_files": 2,
          "type": "Companies"
         },
         {
          "ccvm": "24279",
          "num_files": 2,
          "type": "Companies"
         },
         {
          "ccvm": "24317",
          "num_files": 2,
          "type": "Companies"
         },
         {
          "ccvm": "6696",
          "num_files": 2,
          "type": "Companies"
         },
         {
          "ccvm": "17043",
          "num_files": 2,
          "type": "Companies"
         },
         {
          "ccvm": "17370",
          "num_files": 2,
          "type": "Companies"
         },
         {
          "ccvm": "17604",
          "num_files": 2,
          "type": "Companies"
         },
         {
          "ccvm": "18902",
          "num_files": 2,
          "type": "Companies"
         },
         {
          "ccvm": "18910",
          "num_files": 2,
          "type": "Companies"
         },
         {
          "ccvm": "18929",
          "num_files": 2,
          "type": "Companies"
         },
         {
          "ccvm": "22837",
          "num_files": 2,
          "type": "Companies"
         },
         {
          "ccvm": "22896",
          "num_files": 2,
          "type": "Companies"
         },
         {
          "ccvm": "22900",
          "num_files": 2,
          "type": "Companies"
         },
         {
          "ccvm": "22918",
          "num_files": 2,
          "type": "Companies"
         },
         {
          "ccvm": "23027",
          "num_files": 2,
          "type": "Companies"
         },
         {
          "ccvm": "23051",
          "num_files": 2,
          "type": "Companies"
         },
         {
          "ccvm": "23086",
          "num_files": 2,
          "type": "Companies"
         },
         {
          "ccvm": "24082",
          "num_files": 2,
          "type": "Companies"
         },
         {
          "ccvm": "24112",
          "num_files": 2,
          "type": "Companies"
         },
         {
          "ccvm": "24198",
          "num_files": 2,
          "type": "Companies"
         },
         {
          "ccvm": "24252",
          "num_files": 2,
          "type": "Companies"
         },
         {
          "ccvm": "24295",
          "num_files": 2,
          "type": "Companies"
         },
         {
          "ccvm": "24309",
          "num_files": 2,
          "type": "Companies"
         },
         {
          "ccvm": "12220",
          "num_files": 2,
          "type": "Companies"
         },
         {
          "ccvm": "16195",
          "num_files": 2,
          "type": "Companies"
         },
         {
          "ccvm": "16390",
          "num_files": 2,
          "type": "Companies"
         },
         {
          "ccvm": "16691",
          "num_files": 2,
          "type": "Companies"
         },
         {
          "ccvm": "19933",
          "num_files": 2,
          "type": "Companies"
         },
         {
          "ccvm": "20214",
          "num_files": 2,
          "type": "Companies"
         },
         {
          "ccvm": "20460",
          "num_files": 2,
          "type": "Companies"
         },
         {
          "ccvm": "2062",
          "num_files": 2,
          "type": "Companies"
         },
         {
          "ccvm": "21776",
          "num_files": 2,
          "type": "Companies"
         },
         {
          "ccvm": "22292",
          "num_files": 2,
          "type": "Companies"
         },
         {
          "ccvm": "22888",
          "num_files": 2,
          "type": "Companies"
         },
         {
          "ccvm": "23043",
          "num_files": 2,
          "type": "Companies"
         },
         {
          "ccvm": "23124",
          "num_files": 2,
          "type": "Companies"
         },
         {
          "ccvm": "23779",
          "num_files": 2,
          "type": "Companies"
         },
         {
          "ccvm": "24023",
          "num_files": 2,
          "type": "Companies"
         },
         {
          "ccvm": "24120",
          "num_files": 2,
          "type": "Companies"
         },
         {
          "ccvm": "24139",
          "num_files": 2,
          "type": "Companies"
         },
         {
          "ccvm": "24147",
          "num_files": 2,
          "type": "Companies"
         },
         {
          "ccvm": "24155",
          "num_files": 2,
          "type": "Companies"
         },
         {
          "ccvm": "24180",
          "num_files": 2,
          "type": "Companies"
         },
         {
          "ccvm": "24201",
          "num_files": 2,
          "type": "Companies"
         },
         {
          "ccvm": "24210",
          "num_files": 2,
          "type": "Companies"
         },
         {
          "ccvm": "24228",
          "num_files": 2,
          "type": "Companies"
         },
         {
          "ccvm": "24236",
          "num_files": 2,
          "type": "Companies"
         },
         {
          "ccvm": "24244",
          "num_files": 2,
          "type": "Companies"
         },
         {
          "ccvm": "24287",
          "num_files": 2,
          "type": "Companies"
         },
         {
          "ccvm": "24341",
          "num_files": 2,
          "type": "Companies"
         },
         {
          "ccvm": "24350",
          "num_files": 2,
          "type": "Companies"
         },
         {
          "ccvm": "24392",
          "num_files": 2,
          "type": "Companies"
         },
         {
          "ccvm": "80179",
          "num_files": 2,
          "type": "Companies"
         },
         {
          "ccvm": "8486",
          "num_files": 2,
          "type": "Companies"
         },
         {
          "ccvm": "11320",
          "num_files": 2,
          "type": "Companies"
         },
         {
          "ccvm": "18872",
          "num_files": 2,
          "type": "Companies"
         },
         {
          "ccvm": "19046",
          "num_files": 2,
          "type": "Companies"
         },
         {
          "ccvm": "19402",
          "num_files": 2,
          "type": "Companies"
         },
         {
          "ccvm": "20419",
          "num_files": 2,
          "type": "Companies"
         },
         {
          "ccvm": "21059",
          "num_files": 2,
          "type": "Companies"
         },
         {
          "ccvm": "22101",
          "num_files": 2,
          "type": "Companies"
         },
         {
          "ccvm": "22195",
          "num_files": 2,
          "type": "Companies"
         },
         {
          "ccvm": "22306",
          "num_files": 2,
          "type": "Companies"
         },
         {
          "ccvm": "22322",
          "num_files": 2,
          "type": "Companies"
         },
         {
          "ccvm": "22462",
          "num_files": 2,
          "type": "Companies"
         },
         {
          "ccvm": "22713",
          "num_files": 2,
          "type": "Companies"
         },
         {
          "ccvm": "22748",
          "num_files": 2,
          "type": "Companies"
         },
         {
          "ccvm": "23256",
          "num_files": 2,
          "type": "Companies"
         },
         {
          "ccvm": "24031",
          "num_files": 2,
          "type": "Companies"
         },
         {
          "ccvm": "9857",
          "num_files": 2,
          "type": "Companies"
         },
         {
          "ccvm": "14052",
          "num_files": 2,
          "type": "Companies"
         },
         {
          "ccvm": "17710",
          "num_files": 2,
          "type": "Companies"
         },
         {
          "ccvm": "19240",
          "num_files": 2,
          "type": "Companies"
         },
         {
          "ccvm": "23647",
          "num_files": 2,
          "type": "Companies"
         },
         {
          "ccvm": "23655",
          "num_files": 2,
          "type": "Companies"
         },
         {
          "ccvm": "23663",
          "num_files": 2,
          "type": "Companies"
         },
         {
          "ccvm": "24325",
          "num_files": 2,
          "type": "Companies"
         },
         {
          "ccvm": "24333",
          "num_files": 2,
          "type": "Companies"
         },
         {
          "ccvm": "24473",
          "num_files": 2,
          "type": "Companies"
         },
         {
          "ccvm": "4650",
          "num_files": 2,
          "type": "Companies"
         },
         {
          "ccvm": "140",
          "num_files": 1,
          "type": "Companies"
         },
         {
          "ccvm": "14010",
          "num_files": 1,
          "type": "Companies"
         },
         {
          "ccvm": "14028",
          "num_files": 1,
          "type": "Companies"
         },
         {
          "ccvm": "16730",
          "num_files": 1,
          "type": "Companies"
         },
         {
          "ccvm": "17655",
          "num_files": 1,
          "type": "Companies"
         },
         {
          "ccvm": "19089",
          "num_files": 1,
          "type": "Companies"
         },
         {
          "ccvm": "19631",
          "num_files": 1,
          "type": "Companies"
         },
         {
          "ccvm": "19887",
          "num_files": 1,
          "type": "Companies"
         },
         {
          "ccvm": "21423",
          "num_files": 1,
          "type": "Companies"
         },
         {
          "ccvm": "21660",
          "num_files": 1,
          "type": "Companies"
         },
         {
          "ccvm": "22284",
          "num_files": 1,
          "type": "Companies"
         },
         {
          "ccvm": "22314",
          "num_files": 1,
          "type": "Companies"
         },
         {
          "ccvm": "23361",
          "num_files": 1,
          "type": "Companies"
         },
         {
          "ccvm": "23400",
          "num_files": 1,
          "type": "Companies"
         },
         {
          "ccvm": "23787",
          "num_files": 1,
          "type": "Companies"
         },
         {
          "ccvm": "24384",
          "num_files": 1,
          "type": "Companies"
         },
         {
          "ccvm": "24406",
          "num_files": 1,
          "type": "Companies"
         },
         {
          "ccvm": "24554",
          "num_files": 1,
          "type": "Companies"
         },
         {
          "ccvm": "5878",
          "num_files": 1,
          "type": "Companies"
         },
         {
          "ccvm": "15610",
          "num_files": 1,
          "type": "Companies"
         },
         {
          "ccvm": "19143",
          "num_files": 1,
          "type": "Companies"
         },
         {
          "ccvm": "19500",
          "num_files": 1,
          "type": "Companies"
         },
         {
          "ccvm": "21598",
          "num_files": 1,
          "type": "Companies"
         },
         {
          "ccvm": "22063",
          "num_files": 1,
          "type": "Companies"
         },
         {
          "ccvm": "22241",
          "num_files": 1,
          "type": "Companies"
         },
         {
          "ccvm": "22705",
          "num_files": 1,
          "type": "Companies"
         },
         {
          "ccvm": "23191",
          "num_files": 1,
          "type": "Companies"
         },
         {
          "ccvm": "24368",
          "num_files": 1,
          "type": "Companies"
         },
         {
          "ccvm": "24414",
          "num_files": 1,
          "type": "Companies"
         },
         {
          "ccvm": "24422",
          "num_files": 1,
          "type": "Companies"
         },
         {
          "ccvm": "24430",
          "num_files": 1,
          "type": "Companies"
         },
         {
          "ccvm": "24457",
          "num_files": 1,
          "type": "Companies"
         },
         {
          "ccvm": "24481",
          "num_files": 1,
          "type": "Companies"
         },
         {
          "ccvm": "24490",
          "num_files": 1,
          "type": "Companies"
         },
         {
          "ccvm": "24538",
          "num_files": 1,
          "type": "Companies"
         },
         {
          "ccvm": "24546",
          "num_files": 1,
          "type": "Companies"
         },
         {
          "ccvm": "6378",
          "num_files": 1,
          "type": "Companies"
         },
         {
          "ccvm": "80004",
          "num_files": 1,
          "type": "Companies"
         },
         {
          "ccvm": "1201",
          "num_files": 1,
          "type": "Companies"
         },
         {
          "ccvm": "14540",
          "num_files": 1,
          "type": "Companies"
         },
         {
          "ccvm": "14931",
          "num_files": 1,
          "type": "Companies"
         },
         {
          "ccvm": "15334",
          "num_files": 1,
          "type": "Companies"
         },
         {
          "ccvm": "18082",
          "num_files": 1,
          "type": "Companies"
         },
         {
          "ccvm": "18635",
          "num_files": 1,
          "type": "Companies"
         },
         {
          "ccvm": "20400",
          "num_files": 1,
          "type": "Companies"
         },
         {
          "ccvm": "22098",
          "num_files": 1,
          "type": "Companies"
         },
         {
          "ccvm": "22527",
          "num_files": 1,
          "type": "Companies"
         },
         {
          "ccvm": "22624",
          "num_files": 1,
          "type": "Companies"
         },
         {
          "ccvm": "24465",
          "num_files": 1,
          "type": "Companies"
         },
         {
          "ccvm": "24503",
          "num_files": 1,
          "type": "Companies"
         },
         {
          "ccvm": "518700",
          "num_files": 1,
          "type": "Companies"
         },
         {
          "ccvm": "12181",
          "num_files": 0,
          "type": "Companies"
         },
         {
          "ccvm": "18988",
          "num_files": 0,
          "type": "Companies"
         },
         {
          "ccvm": "19216",
          "num_files": 0,
          "type": "Companies"
         },
         {
          "ccvm": "19496",
          "num_files": 0,
          "type": "Companies"
         },
         {
          "ccvm": "19968",
          "num_files": 0,
          "type": "Companies"
         },
         {
          "ccvm": "21415",
          "num_files": 0,
          "type": "Companies"
         },
         {
          "ccvm": "22152",
          "num_files": 0,
          "type": "Companies"
         },
         {
          "ccvm": "24007",
          "num_files": 0,
          "type": "Companies"
         },
         {
          "ccvm": "24449",
          "num_files": 0,
          "type": "Companies"
         },
         {
          "ccvm": "24511",
          "num_files": 0,
          "type": "Companies"
         },
         {
          "ccvm": "24520",
          "num_files": 0,
          "type": "Companies"
         },
         {
          "ccvm": "9784",
          "num_files": 0,
          "type": "Companies"
         },
         {
          "ccvm": "14710",
          "num_files": 0,
          "type": "Companies"
         },
         {
          "ccvm": "19801",
          "num_files": 0,
          "type": "Companies"
         },
         {
          "ccvm": "22535",
          "num_files": 0,
          "type": "Companies"
         },
         {
          "ccvm": "24376",
          "num_files": 0,
          "type": "Companies"
         }
        ]
       },
       "layer": [
        {
         "data": {
          "name": "data-02e3089812a1ac0b2959d82caed1caca"
         },
         "encoding": {
          "x": {
           "axis": null,
           "bin": true,
           "field": "num_files",
           "type": "quantitative"
          },
          "y": {
           "aggregate": "count",
           "type": "quantitative"
          }
         },
         "mark": "bar"
        },
        {
         "data": {
          "name": "data-02e3089812a1ac0b2959d82caed1caca"
         },
         "encoding": {
          "size": {
           "value": 5
          },
          "x": {
           "aggregate": "mean",
           "field": "num_files",
           "type": "quantitative"
          }
         },
         "mark": {
          "color": "red",
          "type": "rule"
         }
        }
       ]
      },
      "image/png": "[encoded data removed]",
      "text/plain": [
       "<VegaLite 2 object>\n",
       "\n",
       "If you see this message, it means the renderer has not been properly enabled\n",
       "for the frontend that you are using. For more information, see\n",
       "https://altair-viz.github.io/user_guide/troubleshooting.html\n"
      ]
     },
     "execution_count": 74,
     "metadata": {},
     "output_type": "execute_result"
    }
   ],
   "source": [
    "import altair as alt\n",
    "\n",
    "bar = alt.Chart(files_per_company).mark_bar().encode(\n",
    "    alt.X('num_files:Q', bin=True, axis=None),\n",
    "    alt.Y('count()')\n",
    ")\n",
    "\n",
    "rule = alt.Chart(files_per_company).mark_rule(color='red').encode(\n",
    "    x='mean(num_files):Q',\n",
    "    size=alt.value(5)\n",
    ")\n",
    "\n",
    "bar + rule"
   ]
  },
  {
   "cell_type": "code",
   "execution_count": 58,
   "metadata": {},
   "outputs": [],
   "source": [
    "def boxplot_altair(data, x, y, xtype='N', ytype='Q',\n",
    "                   size=40, width=400):\n",
    "    \"\"\"\n",
    "    Python function to make boxplots in Altair\n",
    "    \"\"\"\n",
    "    # Define variables and their types using f-strings in Python\n",
    "    lower_box=f'q1({y}):{ytype}'\n",
    "    lower_whisker=f'min({y}):{ytype}'\n",
    "    upper_box=f'q3({y}):{ytype}'\n",
    "    upper_whisker=f'max({y}):{ytype}'\n",
    "    median_whisker=f'median({y}):{ytype}'\n",
    "    x_data=f'{x}:{xtype}'\n",
    " \n",
    "    # lower plot\n",
    "    lower_plot = alt.Chart(data).mark_rule().encode(\n",
    "        y=alt.Y(lower_whisker, axis=alt.Axis(title=y)),\n",
    "        y2=lower_box,\n",
    "        x=x_data\n",
    "    ).properties(\n",
    "        width=width)\n",
    " \n",
    "    # middle plot\n",
    "    middle_plot = alt.Chart(data).mark_bar(size=size).encode(\n",
    "        y=lower_box,\n",
    "        y2=upper_box,\n",
    "        x=x_data\n",
    "    ).properties(\n",
    "        width=width)\n",
    " \n",
    "    # upper plot\n",
    "    upper_plot = alt.Chart(data).mark_rule().encode(\n",
    "        y=upper_whisker,\n",
    "        y2=upper_box,\n",
    "        x=x_data\n",
    "    ).properties(\n",
    "        width=width)\n",
    "     \n",
    "    # median marker line\n",
    "    middle_tick = alt.Chart(data).mark_tick(\n",
    "        color='white',\n",
    "        size=size\n",
    "    ).encode(\n",
    "        y=median_whisker,\n",
    "        x=x_data,\n",
    "    )\n",
    "     \n",
    "    # combine all the elements of boxplot to a single chart object\n",
    "    chart = lower_plot + middle_plot + upper_plot + middle_tick\n",
    "     \n",
    "    # return chart object\n",
    "    return chart"
   ]
  },
  {
   "cell_type": "code",
   "execution_count": 59,
   "metadata": {},
   "outputs": [
    {
     "data": {
      "application/vnd.vegalite.v2+json": {
       "$schema": "https://vega.github.io/schema/vega-lite/v2.6.0.json",
       "config": {
        "view": {
         "height": 300,
         "width": 400
        }
       },
       "datasets": {
        "data-02e3089812a1ac0b2959d82caed1caca": [
         {
          "ccvm": "20931",
          "num_files": 16,
          "type": "Companies"
         },
         {
          "ccvm": "11070",
          "num_files": 15,
          "type": "Companies"
         },
         {
          "ccvm": "16241",
          "num_files": 15,
          "type": "Companies"
         },
         {
          "ccvm": "1155",
          "num_files": 14,
          "type": "Companies"
         },
         {
          "ccvm": "20346",
          "num_files": 14,
          "type": "Companies"
         },
         {
          "ccvm": "20567",
          "num_files": 14,
          "type": "Companies"
         },
         {
          "ccvm": "22020",
          "num_files": 14,
          "type": "Companies"
         },
         {
          "ccvm": "6173",
          "num_files": 14,
          "type": "Companies"
         },
         {
          "ccvm": "7811",
          "num_files": 14,
          "type": "Companies"
         },
         {
          "ccvm": "15539",
          "num_files": 14,
          "type": "Companies"
         },
         {
          "ccvm": "20010",
          "num_files": 14,
          "type": "Companies"
         },
         {
          "ccvm": "21342",
          "num_files": 14,
          "type": "Companies"
         },
         {
          "ccvm": "1120",
          "num_files": 14,
          "type": "Companies"
         },
         {
          "ccvm": "21555",
          "num_files": 14,
          "type": "Companies"
         },
         {
          "ccvm": "20621",
          "num_files": 13,
          "type": "Companies"
         },
         {
          "ccvm": "21636",
          "num_files": 13,
          "type": "Companies"
         },
         {
          "ccvm": "22691",
          "num_files": 13,
          "type": "Companies"
         },
         {
          "ccvm": "14206",
          "num_files": 13,
          "type": "Companies"
         },
         {
          "ccvm": "10880",
          "num_files": 13,
          "type": "Companies"
         },
         {
          "ccvm": "19445",
          "num_files": 13,
          "type": "Companies"
         },
         {
          "ccvm": "20532",
          "num_files": 13,
          "type": "Companies"
         },
         {
          "ccvm": "22268",
          "num_files": 13,
          "type": "Companies"
         },
         {
          "ccvm": "22667",
          "num_files": 13,
          "type": "Companies"
         },
         {
          "ccvm": "1023",
          "num_files": 12,
          "type": "Companies"
         },
         {
          "ccvm": "17450",
          "num_files": 12,
          "type": "Companies"
         },
         {
          "ccvm": "19569",
          "num_files": 12,
          "type": "Companies"
         },
         {
          "ccvm": "19658",
          "num_files": 12,
          "type": "Companies"
         },
         {
          "ccvm": "20990",
          "num_files": 12,
          "type": "Companies"
         },
         {
          "ccvm": "11398",
          "num_files": 12,
          "type": "Companies"
         },
         {
          "ccvm": "12653",
          "num_files": 12,
          "type": "Companies"
         },
         {
          "ccvm": "20478",
          "num_files": 12,
          "type": "Companies"
         },
         {
          "ccvm": "21016",
          "num_files": 12,
          "type": "Companies"
         },
         {
          "ccvm": "21199",
          "num_files": 12,
          "type": "Companies"
         },
         {
          "ccvm": "22217",
          "num_files": 12,
          "type": "Companies"
         },
         {
          "ccvm": "6815",
          "num_files": 12,
          "type": "Companies"
         },
         {
          "ccvm": "9989",
          "num_files": 12,
          "type": "Companies"
         },
         {
          "ccvm": "14826",
          "num_files": 12,
          "type": "Companies"
         },
         {
          "ccvm": "15253",
          "num_files": 12,
          "type": "Companies"
         },
         {
          "ccvm": "17973",
          "num_files": 12,
          "type": "Companies"
         },
         {
          "ccvm": "18627",
          "num_files": 12,
          "type": "Companies"
         },
         {
          "ccvm": "20524",
          "num_files": 12,
          "type": "Companies"
         },
         {
          "ccvm": "22071",
          "num_files": 12,
          "type": "Companies"
         },
         {
          "ccvm": "7544",
          "num_files": 12,
          "type": "Companies"
         },
         {
          "ccvm": "11762",
          "num_files": 12,
          "type": "Companies"
         },
         {
          "ccvm": "12319",
          "num_files": 12,
          "type": "Companies"
         },
         {
          "ccvm": "19909",
          "num_files": 12,
          "type": "Companies"
         },
         {
          "ccvm": "20257",
          "num_files": 12,
          "type": "Companies"
         },
         {
          "ccvm": "20575",
          "num_files": 12,
          "type": "Companies"
         },
         {
          "ccvm": "20788",
          "num_files": 12,
          "type": "Companies"
         },
         {
          "ccvm": "21300",
          "num_files": 12,
          "type": "Companies"
         },
         {
          "ccvm": "21490",
          "num_files": 12,
          "type": "Companies"
         },
         {
          "ccvm": "14869",
          "num_files": 12,
          "type": "Companies"
         },
         {
          "ccvm": "19100",
          "num_files": 12,
          "type": "Companies"
         },
         {
          "ccvm": "20435",
          "num_files": 12,
          "type": "Companies"
         },
         {
          "ccvm": "20494",
          "num_files": 12,
          "type": "Companies"
         },
         {
          "ccvm": "21644",
          "num_files": 12,
          "type": "Companies"
         },
         {
          "ccvm": "22454",
          "num_files": 12,
          "type": "Companies"
         },
         {
          "ccvm": "22470",
          "num_files": 12,
          "type": "Companies"
         },
         {
          "ccvm": "6343",
          "num_files": 12,
          "type": "Companies"
         },
         {
          "ccvm": "11258",
          "num_files": 11,
          "type": "Companies"
         },
         {
          "ccvm": "1325",
          "num_files": 11,
          "type": "Companies"
         },
         {
          "ccvm": "19348",
          "num_files": 11,
          "type": "Companies"
         },
         {
          "ccvm": "19550",
          "num_files": 11,
          "type": "Companies"
         },
         {
          "ccvm": "19763",
          "num_files": 11,
          "type": "Companies"
         },
         {
          "ccvm": "19879",
          "num_files": 11,
          "type": "Companies"
         },
         {
          "ccvm": "20877",
          "num_files": 11,
          "type": "Companies"
         },
         {
          "ccvm": "21121",
          "num_files": 11,
          "type": "Companies"
         },
         {
          "ccvm": "21237",
          "num_files": 11,
          "type": "Companies"
         },
         {
          "ccvm": "21717",
          "num_files": 11,
          "type": "Companies"
         },
         {
          "ccvm": "22500",
          "num_files": 11,
          "type": "Companies"
         },
         {
          "ccvm": "22608",
          "num_files": 11,
          "type": "Companies"
         },
         {
          "ccvm": "2437",
          "num_files": 11,
          "type": "Companies"
         },
         {
          "ccvm": "8036",
          "num_files": 11,
          "type": "Companies"
         },
         {
          "ccvm": "8087",
          "num_files": 11,
          "type": "Companies"
         },
         {
          "ccvm": "906",
          "num_files": 11,
          "type": "Companies"
         },
         {
          "ccvm": "10456",
          "num_files": 11,
          "type": "Companies"
         },
         {
          "ccvm": "14524",
          "num_files": 11,
          "type": "Companies"
         },
         {
          "ccvm": "19925",
          "num_files": 11,
          "type": "Companies"
         },
         {
          "ccvm": "20192",
          "num_files": 11,
          "type": "Companies"
         },
         {
          "ccvm": "21350",
          "num_files": 11,
          "type": "Companies"
         },
         {
          "ccvm": "21377",
          "num_files": 11,
          "type": "Companies"
         },
         {
          "ccvm": "21946",
          "num_files": 11,
          "type": "Companies"
         },
         {
          "ccvm": "22055",
          "num_files": 11,
          "type": "Companies"
         },
         {
          "ccvm": "3190",
          "num_files": 11,
          "type": "Companies"
         },
         {
          "ccvm": "7510",
          "num_files": 11,
          "type": "Companies"
         },
         {
          "ccvm": "10960",
          "num_files": 11,
          "type": "Companies"
         },
         {
          "ccvm": "1210",
          "num_files": 11,
          "type": "Companies"
         },
         {
          "ccvm": "16268",
          "num_files": 11,
          "type": "Companies"
         },
         {
          "ccvm": "16306",
          "num_files": 11,
          "type": "Companies"
         },
         {
          "ccvm": "16659",
          "num_files": 11,
          "type": "Companies"
         },
         {
          "ccvm": "16772",
          "num_files": 11,
          "type": "Companies"
         },
         {
          "ccvm": "16861",
          "num_files": 11,
          "type": "Companies"
         },
         {
          "ccvm": "18414",
          "num_files": 11,
          "type": "Companies"
         },
         {
          "ccvm": "18597",
          "num_files": 11,
          "type": "Companies"
         },
         {
          "ccvm": "19364",
          "num_files": 11,
          "type": "Companies"
         },
         {
          "ccvm": "20028",
          "num_files": 11,
          "type": "Companies"
         },
         {
          "ccvm": "20800",
          "num_files": 11,
          "type": "Companies"
         },
         {
          "ccvm": "20818",
          "num_files": 11,
          "type": "Companies"
         },
         {
          "ccvm": "20982",
          "num_files": 11,
          "type": "Companies"
         },
         {
          "ccvm": "22250",
          "num_files": 11,
          "type": "Companies"
         },
         {
          "ccvm": "22616",
          "num_files": 11,
          "type": "Companies"
         },
         {
          "ccvm": "2453",
          "num_files": 11,
          "type": "Companies"
         },
         {
          "ccvm": "6505",
          "num_files": 11,
          "type": "Companies"
         },
         {
          "ccvm": "1171",
          "num_files": 10,
          "type": "Companies"
         },
         {
          "ccvm": "1384",
          "num_files": 10,
          "type": "Companies"
         },
         {
          "ccvm": "19232",
          "num_files": 10,
          "type": "Companies"
         },
         {
          "ccvm": "19593",
          "num_files": 10,
          "type": "Companies"
         },
         {
          "ccvm": "19836",
          "num_files": 10,
          "type": "Companies"
         },
         {
          "ccvm": "20745",
          "num_files": 10,
          "type": "Companies"
         },
         {
          "ccvm": "20796",
          "num_files": 10,
          "type": "Companies"
         },
         {
          "ccvm": "20885",
          "num_files": 10,
          "type": "Companies"
         },
         {
          "ccvm": "20958",
          "num_files": 10,
          "type": "Companies"
         },
         {
          "ccvm": "21393",
          "num_files": 10,
          "type": "Companies"
         },
         {
          "ccvm": "21741",
          "num_files": 10,
          "type": "Companies"
         },
         {
          "ccvm": "21849",
          "num_files": 10,
          "type": "Companies"
         },
         {
          "ccvm": "5380",
          "num_files": 10,
          "type": "Companies"
         },
         {
          "ccvm": "13285",
          "num_files": 10,
          "type": "Companies"
         },
         {
          "ccvm": "14320",
          "num_files": 10,
          "type": "Companies"
         },
         {
          "ccvm": "14460",
          "num_files": 10,
          "type": "Companies"
         },
         {
          "ccvm": "16624",
          "num_files": 10,
          "type": "Companies"
         },
         {
          "ccvm": "17779",
          "num_files": 10,
          "type": "Companies"
         },
         {
          "ccvm": "18066",
          "num_files": 10,
          "type": "Companies"
         },
         {
          "ccvm": "18376",
          "num_files": 10,
          "type": "Companies"
         },
         {
          "ccvm": "18406",
          "num_files": 10,
          "type": "Companies"
         },
         {
          "ccvm": "19330",
          "num_files": 10,
          "type": "Companies"
         },
         {
          "ccvm": "19852",
          "num_files": 10,
          "type": "Companies"
         },
         {
          "ccvm": "20087",
          "num_files": 10,
          "type": "Companies"
         },
         {
          "ccvm": "20133",
          "num_files": 10,
          "type": "Companies"
         },
         {
          "ccvm": "20141",
          "num_files": 10,
          "type": "Companies"
         },
         {
          "ccvm": "20729",
          "num_files": 10,
          "type": "Companies"
         },
         {
          "ccvm": "21431",
          "num_files": 10,
          "type": "Companies"
         },
         {
          "ccvm": "22594",
          "num_files": 10,
          "type": "Companies"
         },
         {
          "ccvm": "3050",
          "num_files": 10,
          "type": "Companies"
         },
         {
          "ccvm": "4723",
          "num_files": 10,
          "type": "Companies"
         },
         {
          "ccvm": "5576",
          "num_files": 10,
          "type": "Companies"
         },
         {
          "ccvm": "8427",
          "num_files": 10,
          "type": "Companies"
         },
         {
          "ccvm": "9393",
          "num_files": 10,
          "type": "Companies"
         },
         {
          "ccvm": "11312",
          "num_files": 10,
          "type": "Companies"
         },
         {
          "ccvm": "14303",
          "num_files": 10,
          "type": "Companies"
         },
         {
          "ccvm": "14664",
          "num_files": 10,
          "type": "Companies"
         },
         {
          "ccvm": "15822",
          "num_files": 10,
          "type": "Companies"
         },
         {
          "ccvm": "16608",
          "num_files": 10,
          "type": "Companies"
         },
         {
          "ccvm": "17914",
          "num_files": 10,
          "type": "Companies"
         },
         {
          "ccvm": "17965",
          "num_files": 10,
          "type": "Companies"
         },
         {
          "ccvm": "18287",
          "num_files": 10,
          "type": "Companies"
         },
         {
          "ccvm": "18546",
          "num_files": 10,
          "type": "Companies"
         },
         {
          "ccvm": "18775",
          "num_files": 10,
          "type": "Companies"
         },
         {
          "ccvm": "19208",
          "num_files": 10,
          "type": "Companies"
         },
         {
          "ccvm": "20036",
          "num_files": 10,
          "type": "Companies"
         },
         {
          "ccvm": "20222",
          "num_files": 10,
          "type": "Companies"
         },
         {
          "ccvm": "20320",
          "num_files": 10,
          "type": "Companies"
         },
         {
          "ccvm": "20354",
          "num_files": 10,
          "type": "Companies"
         },
         {
          "ccvm": "20451",
          "num_files": 10,
          "type": "Companies"
         },
         {
          "ccvm": "20648",
          "num_files": 10,
          "type": "Companies"
         },
         {
          "ccvm": "20680",
          "num_files": 10,
          "type": "Companies"
         },
         {
          "ccvm": "20915",
          "num_files": 10,
          "type": "Companies"
         },
         {
          "ccvm": "21008",
          "num_files": 10,
          "type": "Companies"
         },
         {
          "ccvm": "21032",
          "num_files": 10,
          "type": "Companies"
         },
         {
          "ccvm": "21725",
          "num_files": 10,
          "type": "Companies"
         },
         {
          "ccvm": "22179",
          "num_files": 10,
          "type": "Companies"
         },
         {
          "ccvm": "22187",
          "num_files": 10,
          "type": "Companies"
         },
         {
          "ccvm": "22365",
          "num_files": 10,
          "type": "Companies"
         },
         {
          "ccvm": "22390",
          "num_files": 10,
          "type": "Companies"
         },
         {
          "ccvm": "22446",
          "num_files": 10,
          "type": "Companies"
         },
         {
          "ccvm": "22551",
          "num_files": 10,
          "type": "Companies"
         },
         {
          "ccvm": "22560",
          "num_files": 10,
          "type": "Companies"
         },
         {
          "ccvm": "2461",
          "num_files": 10,
          "type": "Companies"
         },
         {
          "ccvm": "3549",
          "num_files": 10,
          "type": "Companies"
         },
         {
          "ccvm": "4170",
          "num_files": 10,
          "type": "Companies"
         },
         {
          "ccvm": "4448",
          "num_files": 10,
          "type": "Companies"
         },
         {
          "ccvm": "5762",
          "num_files": 10,
          "type": "Companies"
         },
         {
          "ccvm": "5770",
          "num_files": 10,
          "type": "Companies"
         },
         {
          "ccvm": "701",
          "num_files": 10,
          "type": "Companies"
         },
         {
          "ccvm": "7595",
          "num_files": 10,
          "type": "Companies"
         },
         {
          "ccvm": "8397",
          "num_files": 10,
          "type": "Companies"
         },
         {
          "ccvm": "922",
          "num_files": 10,
          "type": "Companies"
         },
         {
          "ccvm": "9512",
          "num_files": 10,
          "type": "Companies"
         },
         {
          "ccvm": "13773",
          "num_files": 10,
          "type": "Companies"
         },
         {
          "ccvm": "15300",
          "num_files": 10,
          "type": "Companies"
         },
         {
          "ccvm": "15369",
          "num_files": 10,
          "type": "Companies"
         },
         {
          "ccvm": "16101",
          "num_files": 10,
          "type": "Companies"
         },
         {
          "ccvm": "16616",
          "num_files": 10,
          "type": "Companies"
         },
         {
          "ccvm": "18139",
          "num_files": 10,
          "type": "Companies"
         },
         {
          "ccvm": "18309",
          "num_files": 10,
          "type": "Companies"
         },
         {
          "ccvm": "19615",
          "num_files": 10,
          "type": "Companies"
         },
         {
          "ccvm": "19860",
          "num_files": 10,
          "type": "Companies"
         },
         {
          "ccvm": "20060",
          "num_files": 10,
          "type": "Companies"
         },
         {
          "ccvm": "21024",
          "num_files": 10,
          "type": "Companies"
         },
         {
          "ccvm": "21067",
          "num_files": 10,
          "type": "Companies"
         },
         {
          "ccvm": "21180",
          "num_files": 10,
          "type": "Companies"
         },
         {
          "ccvm": "21822",
          "num_files": 10,
          "type": "Companies"
         },
         {
          "ccvm": "21881",
          "num_files": 10,
          "type": "Companies"
         },
         {
          "ccvm": "22519",
          "num_files": 10,
          "type": "Companies"
         },
         {
          "ccvm": "22780",
          "num_files": 10,
          "type": "Companies"
         },
         {
          "ccvm": "22985",
          "num_files": 10,
          "type": "Companies"
         },
         {
          "ccvm": "3204",
          "num_files": 10,
          "type": "Companies"
         },
         {
          "ccvm": "4030",
          "num_files": 10,
          "type": "Companies"
         },
         {
          "ccvm": "4146",
          "num_files": 10,
          "type": "Companies"
         },
         {
          "ccvm": "5983",
          "num_files": 10,
          "type": "Companies"
         },
         {
          "ccvm": "8893",
          "num_files": 10,
          "type": "Companies"
         },
         {
          "ccvm": "9083",
          "num_files": 10,
          "type": "Companies"
         },
         {
          "ccvm": "11207",
          "num_files": 10,
          "type": "Companies"
         },
         {
          "ccvm": "11215",
          "num_files": 10,
          "type": "Companies"
         },
         {
          "ccvm": "11592",
          "num_files": 10,
          "type": "Companies"
         },
         {
          "ccvm": "12190",
          "num_files": 10,
          "type": "Companies"
         },
         {
          "ccvm": "12572",
          "num_files": 10,
          "type": "Companies"
         },
         {
          "ccvm": "12793",
          "num_files": 10,
          "type": "Companies"
         },
         {
          "ccvm": "14311",
          "num_files": 10,
          "type": "Companies"
         },
         {
          "ccvm": "14362",
          "num_files": 10,
          "type": "Companies"
         },
         {
          "ccvm": "14451",
          "num_files": 10,
          "type": "Companies"
         },
         {
          "ccvm": "14605",
          "num_files": 10,
          "type": "Companies"
         },
         {
          "ccvm": "15083",
          "num_files": 10,
          "type": "Companies"
         },
         {
          "ccvm": "1570",
          "num_files": 10,
          "type": "Companies"
         },
         {
          "ccvm": "16292",
          "num_files": 10,
          "type": "Companies"
         },
         {
          "ccvm": "1724",
          "num_files": 10,
          "type": "Companies"
         },
         {
          "ccvm": "17388",
          "num_files": 10,
          "type": "Companies"
         },
         {
          "ccvm": "17639",
          "num_files": 10,
          "type": "Companies"
         },
         {
          "ccvm": "17671",
          "num_files": 10,
          "type": "Companies"
         },
         {
          "ccvm": "17930",
          "num_files": 10,
          "type": "Companies"
         },
         {
          "ccvm": "19186",
          "num_files": 10,
          "type": "Companies"
         },
         {
          "ccvm": "19305",
          "num_files": 10,
          "type": "Companies"
         },
         {
          "ccvm": "19771",
          "num_files": 10,
          "type": "Companies"
         },
         {
          "ccvm": "20710",
          "num_files": 10,
          "type": "Companies"
         },
         {
          "ccvm": "21520",
          "num_files": 10,
          "type": "Companies"
         },
         {
          "ccvm": "21857",
          "num_files": 10,
          "type": "Companies"
         },
         {
          "ccvm": "22349",
          "num_files": 10,
          "type": "Companies"
         },
         {
          "ccvm": "22357",
          "num_files": 10,
          "type": "Companies"
         },
         {
          "ccvm": "22675",
          "num_files": 10,
          "type": "Companies"
         },
         {
          "ccvm": "22942",
          "num_files": 10,
          "type": "Companies"
         },
         {
          "ccvm": "3077",
          "num_files": 10,
          "type": "Companies"
         },
         {
          "ccvm": "3395",
          "num_files": 10,
          "type": "Companies"
         },
         {
          "ccvm": "3654",
          "num_files": 10,
          "type": "Companies"
         },
         {
          "ccvm": "4537",
          "num_files": 10,
          "type": "Companies"
         },
         {
          "ccvm": "4669",
          "num_files": 10,
          "type": "Companies"
         },
         {
          "ccvm": "6017",
          "num_files": 10,
          "type": "Companies"
         },
         {
          "ccvm": "6041",
          "num_files": 10,
          "type": "Companies"
         },
         {
          "ccvm": "6211",
          "num_files": 10,
          "type": "Companies"
         },
         {
          "ccvm": "80047",
          "num_files": 10,
          "type": "Companies"
         },
         {
          "ccvm": "80071",
          "num_files": 10,
          "type": "Companies"
         },
         {
          "ccvm": "80110",
          "num_files": 10,
          "type": "Companies"
         },
         {
          "ccvm": "8192",
          "num_files": 10,
          "type": "Companies"
         },
         {
          "ccvm": "8605",
          "num_files": 10,
          "type": "Companies"
         },
         {
          "ccvm": "8656",
          "num_files": 10,
          "type": "Companies"
         },
         {
          "ccvm": "11223",
          "num_files": 9,
          "type": "Companies"
         },
         {
          "ccvm": "1228",
          "num_files": 9,
          "type": "Companies"
         },
         {
          "ccvm": "12530",
          "num_files": 9,
          "type": "Companies"
         },
         {
          "ccvm": "13986",
          "num_files": 9,
          "type": "Companies"
         },
         {
          "ccvm": "14176",
          "num_files": 9,
          "type": "Companies"
         },
         {
          "ccvm": "14214",
          "num_files": 9,
          "type": "Companies"
         },
         {
          "ccvm": "14346",
          "num_files": 9,
          "type": "Companies"
         },
         {
          "ccvm": "14443",
          "num_files": 9,
          "type": "Companies"
         },
         {
          "ccvm": "14613",
          "num_files": 9,
          "type": "Companies"
         },
         {
          "ccvm": "14761",
          "num_files": 9,
          "type": "Companies"
         },
         {
          "ccvm": "14966",
          "num_files": 9,
          "type": "Companies"
         },
         {
          "ccvm": "15261",
          "num_files": 9,
          "type": "Companies"
         },
         {
          "ccvm": "15636",
          "num_files": 9,
          "type": "Companies"
         },
         {
          "ccvm": "15741",
          "num_files": 9,
          "type": "Companies"
         },
         {
          "ccvm": "16284",
          "num_files": 9,
          "type": "Companies"
         },
         {
          "ccvm": "16632",
          "num_files": 9,
          "type": "Companies"
         },
         {
          "ccvm": "1694",
          "num_files": 9,
          "type": "Companies"
         },
         {
          "ccvm": "17329",
          "num_files": 9,
          "type": "Companies"
         },
         {
          "ccvm": "19011",
          "num_files": 9,
          "type": "Companies"
         },
         {
          "ccvm": "19453",
          "num_files": 9,
          "type": "Companies"
         },
         {
          "ccvm": "19623",
          "num_files": 9,
          "type": "Companies"
         },
         {
          "ccvm": "19941",
          "num_files": 9,
          "type": "Companies"
         },
         {
          "ccvm": "20044",
          "num_files": 9,
          "type": "Companies"
         },
         {
          "ccvm": "20303",
          "num_files": 9,
          "type": "Companies"
         },
         {
          "ccvm": "20338",
          "num_files": 9,
          "type": "Companies"
         },
         {
          "ccvm": "20362",
          "num_files": 9,
          "type": "Companies"
         },
         {
          "ccvm": "20397",
          "num_files": 9,
          "type": "Companies"
         },
         {
          "ccvm": "20540",
          "num_files": 9,
          "type": "Companies"
         },
         {
          "ccvm": "20966",
          "num_files": 9,
          "type": "Companies"
         },
         {
          "ccvm": "21148",
          "num_files": 9,
          "type": "Companies"
         },
         {
          "ccvm": "21156",
          "num_files": 9,
          "type": "Companies"
         },
         {
          "ccvm": "21709",
          "num_files": 9,
          "type": "Companies"
         },
         {
          "ccvm": "21830",
          "num_files": 9,
          "type": "Companies"
         },
         {
          "ccvm": "22012",
          "num_files": 9,
          "type": "Companies"
         },
         {
          "ccvm": "22934",
          "num_files": 9,
          "type": "Companies"
         },
         {
          "ccvm": "3069",
          "num_files": 9,
          "type": "Companies"
         },
         {
          "ccvm": "4774",
          "num_files": 9,
          "type": "Companies"
         },
         {
          "ccvm": "4820",
          "num_files": 9,
          "type": "Companies"
         },
         {
          "ccvm": "5312",
          "num_files": 9,
          "type": "Companies"
         },
         {
          "ccvm": "6629",
          "num_files": 9,
          "type": "Companies"
         },
         {
          "ccvm": "7870",
          "num_files": 9,
          "type": "Companies"
         },
         {
          "ccvm": "8672",
          "num_files": 9,
          "type": "Companies"
         },
         {
          "ccvm": "8745",
          "num_files": 9,
          "type": "Companies"
         },
         {
          "ccvm": "9067",
          "num_files": 9,
          "type": "Companies"
         },
         {
          "ccvm": "9415",
          "num_files": 9,
          "type": "Companies"
         },
         {
          "ccvm": "9539",
          "num_files": 9,
          "type": "Companies"
         },
         {
          "ccvm": "11975",
          "num_files": 9,
          "type": "Companies"
         },
         {
          "ccvm": "14133",
          "num_files": 9,
          "type": "Companies"
         },
         {
          "ccvm": "15342",
          "num_files": 9,
          "type": "Companies"
         },
         {
          "ccvm": "16527",
          "num_files": 9,
          "type": "Companies"
         },
         {
          "ccvm": "16586",
          "num_files": 9,
          "type": "Companies"
         },
         {
          "ccvm": "16675",
          "num_files": 9,
          "type": "Companies"
         },
         {
          "ccvm": "16705",
          "num_files": 9,
          "type": "Companies"
         },
         {
          "ccvm": "17540",
          "num_files": 9,
          "type": "Companies"
         },
         {
          "ccvm": "18821",
          "num_files": 9,
          "type": "Companies"
         },
         {
          "ccvm": "18970",
          "num_files": 9,
          "type": "Companies"
         },
         {
          "ccvm": "19062",
          "num_files": 9,
          "type": "Companies"
         },
         {
          "ccvm": "19313",
          "num_files": 9,
          "type": "Companies"
         },
         {
          "ccvm": "19577",
          "num_files": 9,
          "type": "Companies"
         },
         {
          "ccvm": "19739",
          "num_files": 9,
          "type": "Companies"
         },
         {
          "ccvm": "19992",
          "num_files": 9,
          "type": "Companies"
         },
         {
          "ccvm": "20052",
          "num_files": 9,
          "type": "Companies"
         },
         {
          "ccvm": "20125",
          "num_files": 9,
          "type": "Companies"
         },
         {
          "ccvm": "20184",
          "num_files": 9,
          "type": "Companies"
         },
         {
          "ccvm": "20370",
          "num_files": 9,
          "type": "Companies"
         },
         {
          "ccvm": "20842",
          "num_files": 9,
          "type": "Companies"
         },
         {
          "ccvm": "21440",
          "num_files": 9,
          "type": "Companies"
         },
         {
          "ccvm": "21733",
          "num_files": 9,
          "type": "Companies"
         },
         {
          "ccvm": "21920",
          "num_files": 9,
          "type": "Companies"
         },
         {
          "ccvm": "21989",
          "num_files": 9,
          "type": "Companies"
         },
         {
          "ccvm": "22233",
          "num_files": 9,
          "type": "Companies"
         },
         {
          "ccvm": "22586",
          "num_files": 9,
          "type": "Companies"
         },
         {
          "ccvm": "22683",
          "num_files": 9,
          "type": "Companies"
         },
         {
          "ccvm": "3980",
          "num_files": 9,
          "type": "Companies"
         },
         {
          "ccvm": "4359",
          "num_files": 9,
          "type": "Companies"
         },
         {
          "ccvm": "4758",
          "num_files": 9,
          "type": "Companies"
         },
         {
          "ccvm": "4782",
          "num_files": 9,
          "type": "Companies"
         },
         {
          "ccvm": "4863",
          "num_files": 9,
          "type": "Companies"
         },
         {
          "ccvm": "6700",
          "num_files": 9,
          "type": "Companies"
         },
         {
          "ccvm": "80020",
          "num_files": 9,
          "type": "Companies"
         },
         {
          "ccvm": "80152",
          "num_files": 9,
          "type": "Companies"
         },
         {
          "ccvm": "9040",
          "num_files": 9,
          "type": "Companies"
         },
         {
          "ccvm": "11231",
          "num_files": 9,
          "type": "Companies"
         },
         {
          "ccvm": "12823",
          "num_files": 9,
          "type": "Companies"
         },
         {
          "ccvm": "13854",
          "num_files": 9,
          "type": "Companies"
         },
         {
          "ccvm": "14109",
          "num_files": 9,
          "type": "Companies"
         },
         {
          "ccvm": "14923",
          "num_files": 9,
          "type": "Companies"
         },
         {
          "ccvm": "15024",
          "num_files": 9,
          "type": "Companies"
         },
         {
          "ccvm": "15091",
          "num_files": 9,
          "type": "Companies"
         },
         {
          "ccvm": "15121",
          "num_files": 9,
          "type": "Companies"
         },
         {
          "ccvm": "1520",
          "num_files": 9,
          "type": "Companies"
         },
         {
          "ccvm": "15407",
          "num_files": 9,
          "type": "Companies"
         },
         {
          "ccvm": "15458",
          "num_files": 9,
          "type": "Companies"
         },
         {
          "ccvm": "15709",
          "num_files": 9,
          "type": "Companies"
         },
         {
          "ccvm": "16209",
          "num_files": 9,
          "type": "Companies"
         },
         {
          "ccvm": "16373",
          "num_files": 9,
          "type": "Companies"
         },
         {
          "ccvm": "16438",
          "num_files": 9,
          "type": "Companies"
         },
         {
          "ccvm": "16446",
          "num_files": 9,
          "type": "Companies"
         },
         {
          "ccvm": "16497",
          "num_files": 9,
          "type": "Companies"
         },
         {
          "ccvm": "16560",
          "num_files": 9,
          "type": "Companies"
         },
         {
          "ccvm": "17337",
          "num_files": 9,
          "type": "Companies"
         },
         {
          "ccvm": "17485",
          "num_files": 9,
          "type": "Companies"
         },
         {
          "ccvm": "17493",
          "num_files": 9,
          "type": "Companies"
         },
         {
          "ccvm": "17850",
          "num_files": 9,
          "type": "Companies"
         },
         {
          "ccvm": "17892",
          "num_files": 9,
          "type": "Companies"
         },
         {
          "ccvm": "18333",
          "num_files": 9,
          "type": "Companies"
         },
         {
          "ccvm": "18465",
          "num_files": 9,
          "type": "Companies"
         },
         {
          "ccvm": "18589",
          "num_files": 9,
          "type": "Companies"
         },
         {
          "ccvm": "18708",
          "num_files": 9,
          "type": "Companies"
         },
         {
          "ccvm": "18724",
          "num_files": 9,
          "type": "Companies"
         },
         {
          "ccvm": "18953",
          "num_files": 9,
          "type": "Companies"
         },
         {
          "ccvm": "19097",
          "num_files": 9,
          "type": "Companies"
         },
         {
          "ccvm": "19640",
          "num_files": 9,
          "type": "Companies"
         },
         {
          "ccvm": "19984",
          "num_files": 9,
          "type": "Companies"
         },
         {
          "ccvm": "20001",
          "num_files": 9,
          "type": "Companies"
         },
         {
          "ccvm": "2100",
          "num_files": 9,
          "type": "Companies"
         },
         {
          "ccvm": "21130",
          "num_files": 9,
          "type": "Companies"
         },
         {
          "ccvm": "21202",
          "num_files": 9,
          "type": "Companies"
         },
         {
          "ccvm": "21466",
          "num_files": 9,
          "type": "Companies"
         },
         {
          "ccvm": "21628",
          "num_files": 9,
          "type": "Companies"
         },
         {
          "ccvm": "21750",
          "num_files": 9,
          "type": "Companies"
         },
         {
          "ccvm": "21903",
          "num_files": 9,
          "type": "Companies"
         },
         {
          "ccvm": "21962",
          "num_files": 9,
          "type": "Companies"
         },
         {
          "ccvm": "22080",
          "num_files": 9,
          "type": "Companies"
         },
         {
          "ccvm": "22144",
          "num_files": 9,
          "type": "Companies"
         },
         {
          "ccvm": "22160",
          "num_files": 9,
          "type": "Companies"
         },
         {
          "ccvm": "22420",
          "num_files": 9,
          "type": "Companies"
         },
         {
          "ccvm": "22489",
          "num_files": 9,
          "type": "Companies"
         },
         {
          "ccvm": "22497",
          "num_files": 9,
          "type": "Companies"
         },
         {
          "ccvm": "22721",
          "num_files": 9,
          "type": "Companies"
         },
         {
          "ccvm": "23019",
          "num_files": 9,
          "type": "Companies"
         },
         {
          "ccvm": "23035",
          "num_files": 9,
          "type": "Companies"
         },
         {
          "ccvm": "23175",
          "num_files": 9,
          "type": "Companies"
         },
         {
          "ccvm": "23221",
          "num_files": 9,
          "type": "Companies"
         },
         {
          "ccvm": "2429",
          "num_files": 9,
          "type": "Companies"
         },
         {
          "ccvm": "2577",
          "num_files": 9,
          "type": "Companies"
         },
         {
          "ccvm": "3891",
          "num_files": 9,
          "type": "Companies"
         },
         {
          "ccvm": "4707",
          "num_files": 9,
          "type": "Companies"
         },
         {
          "ccvm": "5410",
          "num_files": 9,
          "type": "Companies"
         },
         {
          "ccvm": "7617",
          "num_files": 9,
          "type": "Companies"
         },
         {
          "ccvm": "9342",
          "num_files": 9,
          "type": "Companies"
         },
         {
          "ccvm": "9954",
          "num_files": 9,
          "type": "Companies"
         },
         {
          "ccvm": "10472",
          "num_files": 8,
          "type": "Companies"
         },
         {
          "ccvm": "12696",
          "num_files": 8,
          "type": "Companies"
         },
         {
          "ccvm": "12858",
          "num_files": 8,
          "type": "Companies"
         },
         {
          "ccvm": "13366",
          "num_files": 8,
          "type": "Companies"
         },
         {
          "ccvm": "13471",
          "num_files": 8,
          "type": "Companies"
         },
         {
          "ccvm": "14818",
          "num_files": 8,
          "type": "Companies"
         },
         {
          "ccvm": "15199",
          "num_files": 8,
          "type": "Companies"
         },
         {
          "ccvm": "1562",
          "num_files": 8,
          "type": "Companies"
         },
         {
          "ccvm": "15695",
          "num_files": 8,
          "type": "Companies"
         },
         {
          "ccvm": "15865",
          "num_files": 8,
          "type": "Companies"
         },
         {
          "ccvm": "1597",
          "num_files": 8,
          "type": "Companies"
         },
         {
          "ccvm": "16942",
          "num_files": 8,
          "type": "Companies"
         },
         {
          "ccvm": "16985",
          "num_files": 8,
          "type": "Companies"
         },
         {
          "ccvm": "16993",
          "num_files": 8,
          "type": "Companies"
         },
         {
          "ccvm": "17434",
          "num_files": 8,
          "type": "Companies"
         },
         {
          "ccvm": "17884",
          "num_files": 8,
          "type": "Companies"
         },
         {
          "ccvm": "17922",
          "num_files": 8,
          "type": "Companies"
         },
         {
          "ccvm": "17949",
          "num_files": 8,
          "type": "Companies"
         },
         {
          "ccvm": "18368",
          "num_files": 8,
          "type": "Companies"
         },
         {
          "ccvm": "18538",
          "num_files": 8,
          "type": "Companies"
         },
         {
          "ccvm": "18554",
          "num_files": 8,
          "type": "Companies"
         },
         {
          "ccvm": "18759",
          "num_files": 8,
          "type": "Companies"
         },
         {
          "ccvm": "19135",
          "num_files": 8,
          "type": "Companies"
         },
         {
          "ccvm": "19151",
          "num_files": 8,
          "type": "Companies"
         },
         {
          "ccvm": "19275",
          "num_files": 8,
          "type": "Companies"
         },
         {
          "ccvm": "19747",
          "num_files": 8,
          "type": "Companies"
         },
         {
          "ccvm": "20559",
          "num_files": 8,
          "type": "Companies"
         },
         {
          "ccvm": "20605",
          "num_files": 8,
          "type": "Companies"
         },
         {
          "ccvm": "20613",
          "num_files": 8,
          "type": "Companies"
         },
         {
          "ccvm": "20672",
          "num_files": 8,
          "type": "Companies"
         },
         {
          "ccvm": "20770",
          "num_files": 8,
          "type": "Companies"
         },
         {
          "ccvm": "21091",
          "num_files": 8,
          "type": "Companies"
         },
         {
          "ccvm": "21105",
          "num_files": 8,
          "type": "Companies"
         },
         {
          "ccvm": "21334",
          "num_files": 8,
          "type": "Companies"
         },
         {
          "ccvm": "21814",
          "num_files": 8,
          "type": "Companies"
         },
         {
          "ccvm": "21997",
          "num_files": 8,
          "type": "Companies"
         },
         {
          "ccvm": "22004",
          "num_files": 8,
          "type": "Companies"
         },
         {
          "ccvm": "22411",
          "num_files": 8,
          "type": "Companies"
         },
         {
          "ccvm": "22659",
          "num_files": 8,
          "type": "Companies"
         },
         {
          "ccvm": "22799",
          "num_files": 8,
          "type": "Companies"
         },
         {
          "ccvm": "3158",
          "num_files": 8,
          "type": "Companies"
         },
         {
          "ccvm": "3298",
          "num_files": 8,
          "type": "Companies"
         },
         {
          "ccvm": "3328",
          "num_files": 8,
          "type": "Companies"
         },
         {
          "ccvm": "4685",
          "num_files": 8,
          "type": "Companies"
         },
         {
          "ccvm": "94",
          "num_files": 8,
          "type": "Companies"
         },
         {
          "ccvm": "11932",
          "num_files": 8,
          "type": "Companies"
         },
         {
          "ccvm": "13439",
          "num_files": 8,
          "type": "Companies"
         },
         {
          "ccvm": "13765",
          "num_files": 8,
          "type": "Companies"
         },
         {
          "ccvm": "14850",
          "num_files": 8,
          "type": "Companies"
         },
         {
          "ccvm": "15423",
          "num_files": 8,
          "type": "Companies"
         },
         {
          "ccvm": "15717",
          "num_files": 8,
          "type": "Companies"
         },
         {
          "ccvm": "15784",
          "num_files": 8,
          "type": "Companies"
         },
         {
          "ccvm": "16535",
          "num_files": 8,
          "type": "Companies"
         },
         {
          "ccvm": "16551",
          "num_files": 8,
          "type": "Companies"
         },
         {
          "ccvm": "16748",
          "num_files": 8,
          "type": "Companies"
         },
         {
          "ccvm": "17418",
          "num_files": 8,
          "type": "Companies"
         },
         {
          "ccvm": "17868",
          "num_files": 8,
          "type": "Companies"
         },
         {
          "ccvm": "18236",
          "num_files": 8,
          "type": "Companies"
         },
         {
          "ccvm": "18430",
          "num_files": 8,
          "type": "Companies"
         },
         {
          "ccvm": "18660",
          "num_files": 8,
          "type": "Companies"
         },
         {
          "ccvm": "19119",
          "num_files": 8,
          "type": "Companies"
         },
         {
          "ccvm": "19224",
          "num_files": 8,
          "type": "Companies"
         },
         {
          "ccvm": "19437",
          "num_files": 8,
          "type": "Companies"
         },
         {
          "ccvm": "19470",
          "num_files": 8,
          "type": "Companies"
         },
         {
          "ccvm": "20443",
          "num_files": 8,
          "type": "Companies"
         },
         {
          "ccvm": "20630",
          "num_files": 8,
          "type": "Companies"
         },
         {
          "ccvm": "21040",
          "num_files": 8,
          "type": "Companies"
         },
         {
          "ccvm": "21075",
          "num_files": 8,
          "type": "Companies"
         },
         {
          "ccvm": "21610",
          "num_files": 8,
          "type": "Companies"
         },
         {
          "ccvm": "22225",
          "num_files": 8,
          "type": "Companies"
         },
         {
          "ccvm": "22543",
          "num_files": 8,
          "type": "Companies"
         },
         {
          "ccvm": "22764",
          "num_files": 8,
          "type": "Companies"
         },
         {
          "ccvm": "22845",
          "num_files": 8,
          "type": "Companies"
         },
         {
          "ccvm": "23000",
          "num_files": 8,
          "type": "Companies"
         },
         {
          "ccvm": "23310",
          "num_files": 8,
          "type": "Companies"
         },
         {
          "ccvm": "3115",
          "num_files": 8,
          "type": "Companies"
         },
         {
          "ccvm": "3271",
          "num_files": 8,
          "type": "Companies"
         },
         {
          "ccvm": "3824",
          "num_files": 8,
          "type": "Companies"
         },
         {
          "ccvm": "4081",
          "num_files": 8,
          "type": "Companies"
         },
         {
          "ccvm": "4693",
          "num_files": 8,
          "type": "Companies"
         },
         {
          "ccvm": "5207",
          "num_files": 8,
          "type": "Companies"
         },
         {
          "ccvm": "5258",
          "num_files": 8,
          "type": "Companies"
         },
         {
          "ccvm": "6076",
          "num_files": 8,
          "type": "Companies"
         },
         {
          "ccvm": "8117",
          "num_files": 8,
          "type": "Companies"
         },
         {
          "ccvm": "8133",
          "num_files": 8,
          "type": "Companies"
         },
         {
          "ccvm": "8451",
          "num_files": 8,
          "type": "Companies"
         },
         {
          "ccvm": "8575",
          "num_files": 8,
          "type": "Companies"
         },
         {
          "ccvm": "10561",
          "num_files": 8,
          "type": "Companies"
         },
         {
          "ccvm": "11991",
          "num_files": 8,
          "type": "Companies"
         },
         {
          "ccvm": "13030",
          "num_files": 8,
          "type": "Companies"
         },
         {
          "ccvm": "1309",
          "num_files": 8,
          "type": "Companies"
         },
         {
          "ccvm": "13781",
          "num_files": 8,
          "type": "Companies"
         },
         {
          "ccvm": "14168",
          "num_files": 8,
          "type": "Companies"
         },
         {
          "ccvm": "15733",
          "num_files": 8,
          "type": "Companies"
         },
         {
          "ccvm": "18996",
          "num_files": 8,
          "type": "Companies"
         },
         {
          "ccvm": "19429",
          "num_files": 8,
          "type": "Companies"
         },
         {
          "ccvm": "19704",
          "num_files": 8,
          "type": "Companies"
         },
         {
          "ccvm": "19720",
          "num_files": 8,
          "type": "Companies"
         },
         {
          "ccvm": "19844",
          "num_files": 8,
          "type": "Companies"
         },
         {
          "ccvm": "20516",
          "num_files": 8,
          "type": "Companies"
         },
         {
          "ccvm": "20702",
          "num_files": 8,
          "type": "Companies"
         },
         {
          "ccvm": "21482",
          "num_files": 8,
          "type": "Companies"
         },
         {
          "ccvm": "21938",
          "num_files": 8,
          "type": "Companies"
         },
         {
          "ccvm": "22632",
          "num_files": 8,
          "type": "Companies"
         },
         {
          "ccvm": "22802",
          "num_files": 8,
          "type": "Companies"
         },
         {
          "ccvm": "8540",
          "num_files": 8,
          "type": "Companies"
         },
         {
          "ccvm": "8753",
          "num_files": 8,
          "type": "Companies"
         },
         {
          "ccvm": "8818",
          "num_files": 8,
          "type": "Companies"
         },
         {
          "ccvm": "9520",
          "num_files": 8,
          "type": "Companies"
         },
         {
          "ccvm": "9717",
          "num_files": 8,
          "type": "Companies"
         },
         {
          "ccvm": "12262",
          "num_files": 8,
          "type": "Companies"
         },
         {
          "ccvm": "13447",
          "num_files": 8,
          "type": "Companies"
         },
         {
          "ccvm": "17558",
          "num_files": 8,
          "type": "Companies"
         },
         {
          "ccvm": "18716",
          "num_files": 8,
          "type": "Companies"
         },
         {
          "ccvm": "19895",
          "num_files": 8,
          "type": "Companies"
         },
         {
          "ccvm": "20150",
          "num_files": 8,
          "type": "Companies"
         },
         {
          "ccvm": "20265",
          "num_files": 8,
          "type": "Companies"
         },
         {
          "ccvm": "22810",
          "num_files": 8,
          "type": "Companies"
         },
         {
          "ccvm": "22977",
          "num_files": 8,
          "type": "Companies"
         },
         {
          "ccvm": "23060",
          "num_files": 8,
          "type": "Companies"
         },
         {
          "ccvm": "23280",
          "num_files": 8,
          "type": "Companies"
         },
         {
          "ccvm": "15652",
          "num_files": 8,
          "type": "Companies"
         },
         {
          "ccvm": "17590",
          "num_files": 8,
          "type": "Companies"
         },
         {
          "ccvm": "21792",
          "num_files": 8,
          "type": "Companies"
         },
         {
          "ccvm": "23159",
          "num_files": 8,
          "type": "Companies"
         },
         {
          "ccvm": "23302",
          "num_files": 8,
          "type": "Companies"
         },
         {
          "ccvm": "6955",
          "num_files": 8,
          "type": "Companies"
         },
         {
          "ccvm": "80128",
          "num_files": 8,
          "type": "Companies"
         },
         {
          "ccvm": "16233",
          "num_files": 7,
          "type": "Companies"
         },
         {
          "ccvm": "19607",
          "num_files": 7,
          "type": "Companies"
         },
         {
          "ccvm": "1970",
          "num_files": 7,
          "type": "Companies"
         },
         {
          "ccvm": "20389",
          "num_files": 7,
          "type": "Companies"
         },
         {
          "ccvm": "21601",
          "num_files": 7,
          "type": "Companies"
         },
         {
          "ccvm": "22853",
          "num_files": 7,
          "type": "Companies"
         },
         {
          "ccvm": "22926",
          "num_files": 7,
          "type": "Companies"
         },
         {
          "ccvm": "23515",
          "num_files": 7,
          "type": "Companies"
         },
         {
          "ccvm": "2488",
          "num_files": 7,
          "type": "Companies"
         },
         {
          "ccvm": "1686",
          "num_files": 7,
          "type": "Companies"
         },
         {
          "ccvm": "19356",
          "num_files": 7,
          "type": "Companies"
         },
         {
          "ccvm": "20656",
          "num_files": 7,
          "type": "Companies"
         },
         {
          "ccvm": "20974",
          "num_files": 7,
          "type": "Companies"
         },
         {
          "ccvm": "21113",
          "num_files": 7,
          "type": "Companies"
         },
         {
          "ccvm": "22136",
          "num_files": 7,
          "type": "Companies"
         },
         {
          "ccvm": "23388",
          "num_files": 7,
          "type": "Companies"
         },
         {
          "ccvm": "80063",
          "num_files": 7,
          "type": "Companies"
         },
         {
          "ccvm": "14915",
          "num_files": 7,
          "type": "Companies"
         },
         {
          "ccvm": "15890",
          "num_files": 7,
          "type": "Companies"
         },
         {
          "ccvm": "17361",
          "num_files": 7,
          "type": "Companies"
         },
         {
          "ccvm": "23167",
          "num_files": 7,
          "type": "Companies"
         },
         {
          "ccvm": "23272",
          "num_files": 7,
          "type": "Companies"
         },
         {
          "ccvm": "23426",
          "num_files": 7,
          "type": "Companies"
         },
         {
          "ccvm": "23523",
          "num_files": 7,
          "type": "Companies"
         },
         {
          "ccvm": "18104",
          "num_files": 6,
          "type": "Companies"
         },
         {
          "ccvm": "19542",
          "num_files": 6,
          "type": "Companies"
         },
         {
          "ccvm": "19917",
          "num_files": 6,
          "type": "Companies"
         },
         {
          "ccvm": "22128",
          "num_files": 6,
          "type": "Companies"
         },
         {
          "ccvm": "22578",
          "num_files": 6,
          "type": "Companies"
         },
         {
          "ccvm": "22829",
          "num_files": 6,
          "type": "Companies"
         },
         {
          "ccvm": "22861",
          "num_files": 6,
          "type": "Companies"
         },
         {
          "ccvm": "23132",
          "num_files": 6,
          "type": "Companies"
         },
         {
          "ccvm": "23205",
          "num_files": 6,
          "type": "Companies"
         },
         {
          "ccvm": "23248",
          "num_files": 6,
          "type": "Companies"
         },
         {
          "ccvm": "23329",
          "num_files": 6,
          "type": "Companies"
         },
         {
          "ccvm": "15113",
          "num_files": 6,
          "type": "Companies"
         },
         {
          "ccvm": "15377",
          "num_files": 6,
          "type": "Companies"
         },
         {
          "ccvm": "19070",
          "num_files": 6,
          "type": "Companies"
         },
         {
          "ccvm": "19380",
          "num_files": 6,
          "type": "Companies"
         },
         {
          "ccvm": "19518",
          "num_files": 6,
          "type": "Companies"
         },
         {
          "ccvm": "20508",
          "num_files": 6,
          "type": "Companies"
         },
         {
          "ccvm": "21652",
          "num_files": 6,
          "type": "Companies"
         },
         {
          "ccvm": "23264",
          "num_files": 6,
          "type": "Companies"
         },
         {
          "ccvm": "23485",
          "num_files": 6,
          "type": "Companies"
         },
         {
          "ccvm": "11800",
          "num_files": 6,
          "type": "Companies"
         },
         {
          "ccvm": "18678",
          "num_files": 6,
          "type": "Companies"
         },
         {
          "ccvm": "18961",
          "num_files": 6,
          "type": "Companies"
         },
         {
          "ccvm": "20907",
          "num_files": 6,
          "type": "Companies"
         },
         {
          "ccvm": "21687",
          "num_files": 6,
          "type": "Companies"
         },
         {
          "ccvm": "22381",
          "num_files": 6,
          "type": "Companies"
         },
         {
          "ccvm": "22950",
          "num_files": 6,
          "type": "Companies"
         },
         {
          "ccvm": "23337",
          "num_files": 6,
          "type": "Companies"
         },
         {
          "ccvm": "23353",
          "num_files": 6,
          "type": "Companies"
         },
         {
          "ccvm": "23540",
          "num_files": 6,
          "type": "Companies"
         },
         {
          "ccvm": "23825",
          "num_files": 6,
          "type": "Companies"
         },
         {
          "ccvm": "19372",
          "num_files": 6,
          "type": "Companies"
         },
         {
          "ccvm": "19976",
          "num_files": 6,
          "type": "Companies"
         },
         {
          "ccvm": "20230",
          "num_files": 6,
          "type": "Companies"
         },
         {
          "ccvm": "23230",
          "num_files": 6,
          "type": "Companies"
         },
         {
          "ccvm": "23418",
          "num_files": 6,
          "type": "Companies"
         },
         {
          "ccvm": "23574",
          "num_files": 6,
          "type": "Companies"
         },
         {
          "ccvm": "3174",
          "num_files": 6,
          "type": "Companies"
         },
         {
          "ccvm": "3450",
          "num_files": 6,
          "type": "Companies"
         },
         {
          "ccvm": "80160",
          "num_files": 6,
          "type": "Companies"
         },
         {
          "ccvm": "10596",
          "num_files": 6,
          "type": "Companies"
         },
         {
          "ccvm": "18350",
          "num_files": 6,
          "type": "Companies"
         },
         {
          "ccvm": "19526",
          "num_files": 6,
          "type": "Companies"
         },
         {
          "ccvm": "19810",
          "num_files": 6,
          "type": "Companies"
         },
         {
          "ccvm": "2038",
          "num_files": 6,
          "type": "Companies"
         },
         {
          "ccvm": "21865",
          "num_files": 6,
          "type": "Companies"
         },
         {
          "ccvm": "22047",
          "num_files": 6,
          "type": "Companies"
         },
         {
          "ccvm": "22330",
          "num_files": 6,
          "type": "Companies"
         },
         {
          "ccvm": "22373",
          "num_files": 6,
          "type": "Companies"
         },
         {
          "ccvm": "22772",
          "num_files": 6,
          "type": "Companies"
         },
         {
          "ccvm": "23434",
          "num_files": 6,
          "type": "Companies"
         },
         {
          "ccvm": "23531",
          "num_files": 6,
          "type": "Companies"
         },
         {
          "ccvm": "4057",
          "num_files": 6,
          "type": "Companies"
         },
         {
          "ccvm": "17442",
          "num_files": 5,
          "type": "Companies"
         },
         {
          "ccvm": "19755",
          "num_files": 5,
          "type": "Companies"
         },
         {
          "ccvm": "20850",
          "num_files": 5,
          "type": "Companies"
         },
         {
          "ccvm": "21695",
          "num_files": 5,
          "type": "Companies"
         },
         {
          "ccvm": "21954",
          "num_files": 5,
          "type": "Companies"
         },
         {
          "ccvm": "23140",
          "num_files": 5,
          "type": "Companies"
         },
         {
          "ccvm": "23183",
          "num_files": 5,
          "type": "Companies"
         },
         {
          "ccvm": "23493",
          "num_files": 5,
          "type": "Companies"
         },
         {
          "ccvm": "23558",
          "num_files": 5,
          "type": "Companies"
         },
         {
          "ccvm": "3336",
          "num_files": 5,
          "type": "Companies"
         },
         {
          "ccvm": "15849",
          "num_files": 5,
          "type": "Companies"
         },
         {
          "ccvm": "16225",
          "num_files": 5,
          "type": "Companies"
         },
         {
          "ccvm": "16330",
          "num_files": 5,
          "type": "Companies"
         },
         {
          "ccvm": "16950",
          "num_files": 5,
          "type": "Companies"
         },
         {
          "ccvm": "19690",
          "num_files": 5,
          "type": "Companies"
         },
         {
          "ccvm": "22993",
          "num_files": 5,
          "type": "Companies"
         },
         {
          "ccvm": "23370",
          "num_files": 5,
          "type": "Companies"
         },
         {
          "ccvm": "23477",
          "num_files": 5,
          "type": "Companies"
         },
         {
          "ccvm": "23590",
          "num_files": 5,
          "type": "Companies"
         },
         {
          "ccvm": "23701",
          "num_files": 5,
          "type": "Companies"
         },
         {
          "ccvm": "2909",
          "num_files": 5,
          "type": "Companies"
         },
         {
          "ccvm": "14621",
          "num_files": 5,
          "type": "Companies"
         },
         {
          "ccvm": "18490",
          "num_files": 5,
          "type": "Companies"
         },
         {
          "ccvm": "22039",
          "num_files": 5,
          "type": "Companies"
         },
         {
          "ccvm": "23396",
          "num_files": 5,
          "type": "Companies"
         },
         {
          "ccvm": "23442",
          "num_files": 5,
          "type": "Companies"
         },
         {
          "ccvm": "23469",
          "num_files": 5,
          "type": "Companies"
         },
         {
          "ccvm": "23507",
          "num_files": 5,
          "type": "Companies"
         },
         {
          "ccvm": "23710",
          "num_files": 5,
          "type": "Companies"
         },
         {
          "ccvm": "23728",
          "num_files": 5,
          "type": "Companies"
         },
         {
          "ccvm": "23809",
          "num_files": 5,
          "type": "Companies"
         },
         {
          "ccvm": "23876",
          "num_files": 5,
          "type": "Companies"
         },
         {
          "ccvm": "80101",
          "num_files": 5,
          "type": "Companies"
         },
         {
          "ccvm": "80136",
          "num_files": 5,
          "type": "Companies"
         },
         {
          "ccvm": "13790",
          "num_files": 4,
          "type": "Companies"
         },
         {
          "ccvm": "14559",
          "num_files": 4,
          "type": "Companies"
         },
         {
          "ccvm": "23604",
          "num_files": 4,
          "type": "Companies"
         },
         {
          "ccvm": "23612",
          "num_files": 4,
          "type": "Companies"
         },
         {
          "ccvm": "23760",
          "num_files": 4,
          "type": "Companies"
         },
         {
          "ccvm": "23817",
          "num_files": 4,
          "type": "Companies"
         },
         {
          "ccvm": "23833",
          "num_files": 4,
          "type": "Companies"
         },
         {
          "ccvm": "23892",
          "num_files": 4,
          "type": "Companies"
         },
         {
          "ccvm": "8648",
          "num_files": 4,
          "type": "Companies"
         },
         {
          "ccvm": "12866",
          "num_files": 4,
          "type": "Companies"
         },
         {
          "ccvm": "17647",
          "num_files": 4,
          "type": "Companies"
         },
         {
          "ccvm": "17787",
          "num_files": 4,
          "type": "Companies"
         },
         {
          "ccvm": "21261",
          "num_files": 4,
          "type": "Companies"
         },
         {
          "ccvm": "23094",
          "num_files": 4,
          "type": "Companies"
         },
         {
          "ccvm": "23582",
          "num_files": 4,
          "type": "Companies"
         },
         {
          "ccvm": "23620",
          "num_files": 4,
          "type": "Companies"
         },
         {
          "ccvm": "23639",
          "num_files": 4,
          "type": "Companies"
         },
         {
          "ccvm": "23884",
          "num_files": 4,
          "type": "Companies"
         },
         {
          "ccvm": "5150",
          "num_files": 4,
          "type": "Companies"
         },
         {
          "ccvm": "18651",
          "num_files": 4,
          "type": "Companies"
         },
         {
          "ccvm": "19798",
          "num_files": 4,
          "type": "Companies"
         },
         {
          "ccvm": "20079",
          "num_files": 4,
          "type": "Companies"
         },
         {
          "ccvm": "21580",
          "num_files": 4,
          "type": "Companies"
         },
         {
          "ccvm": "21784",
          "num_files": 4,
          "type": "Companies"
         },
         {
          "ccvm": "22438",
          "num_files": 4,
          "type": "Companies"
         },
         {
          "ccvm": "22640",
          "num_files": 4,
          "type": "Companies"
         },
         {
          "ccvm": "23116",
          "num_files": 4,
          "type": "Companies"
         },
         {
          "ccvm": "23566",
          "num_files": 4,
          "type": "Companies"
         },
         {
          "ccvm": "23671",
          "num_files": 4,
          "type": "Companies"
         },
         {
          "ccvm": "23680",
          "num_files": 4,
          "type": "Companies"
         },
         {
          "ccvm": "23744",
          "num_files": 4,
          "type": "Companies"
         },
         {
          "ccvm": "23868",
          "num_files": 4,
          "type": "Companies"
         },
         {
          "ccvm": "23906",
          "num_files": 4,
          "type": "Companies"
         },
         {
          "ccvm": "24058",
          "num_files": 4,
          "type": "Companies"
         },
         {
          "ccvm": "80098",
          "num_files": 4,
          "type": "Companies"
         },
         {
          "ccvm": "19585",
          "num_files": 4,
          "type": "Companies"
         },
         {
          "ccvm": "20753",
          "num_files": 4,
          "type": "Companies"
         },
         {
          "ccvm": "21172",
          "num_files": 4,
          "type": "Companies"
         },
         {
          "ccvm": "22209",
          "num_files": 4,
          "type": "Companies"
         },
         {
          "ccvm": "22756",
          "num_files": 4,
          "type": "Companies"
         },
         {
          "ccvm": "23345",
          "num_files": 4,
          "type": "Companies"
         },
         {
          "ccvm": "23698",
          "num_files": 4,
          "type": "Companies"
         },
         {
          "ccvm": "23795",
          "num_files": 4,
          "type": "Companies"
         },
         {
          "ccvm": "23841",
          "num_files": 4,
          "type": "Companies"
         },
         {
          "ccvm": "23850",
          "num_files": 4,
          "type": "Companies"
         },
         {
          "ccvm": "23922",
          "num_files": 4,
          "type": "Companies"
         },
         {
          "ccvm": "23957",
          "num_files": 4,
          "type": "Companies"
         },
         {
          "ccvm": "7978",
          "num_files": 4,
          "type": "Companies"
         },
         {
          "ccvm": "80144",
          "num_files": 4,
          "type": "Companies"
         },
         {
          "ccvm": "18279",
          "num_files": 4,
          "type": "Companies"
         },
         {
          "ccvm": "20176",
          "num_files": 4,
          "type": "Companies"
         },
         {
          "ccvm": "21245",
          "num_files": 4,
          "type": "Companies"
         },
         {
          "ccvm": "21563",
          "num_files": 4,
          "type": "Companies"
         },
         {
          "ccvm": "23981",
          "num_files": 4,
          "type": "Companies"
         },
         {
          "ccvm": "23990",
          "num_files": 4,
          "type": "Companies"
         },
         {
          "ccvm": "24074",
          "num_files": 4,
          "type": "Companies"
         },
         {
          "ccvm": "3182",
          "num_files": 4,
          "type": "Companies"
         },
         {
          "ccvm": "5991",
          "num_files": 4,
          "type": "Companies"
         },
         {
          "ccvm": "80080",
          "num_files": 4,
          "type": "Companies"
         },
         {
          "ccvm": "18112",
          "num_files": 3,
          "type": "Companies"
         },
         {
          "ccvm": "20893",
          "num_files": 3,
          "type": "Companies"
         },
         {
          "ccvm": "22110",
          "num_files": 3,
          "type": "Companies"
         },
         {
          "ccvm": "22969",
          "num_files": 3,
          "type": "Companies"
         },
         {
          "ccvm": "23108",
          "num_files": 3,
          "type": "Companies"
         },
         {
          "ccvm": "23930",
          "num_files": 3,
          "type": "Companies"
         },
         {
          "ccvm": "23965",
          "num_files": 3,
          "type": "Companies"
         },
         {
          "ccvm": "7064",
          "num_files": 3,
          "type": "Companies"
         },
         {
          "ccvm": "11606",
          "num_files": 3,
          "type": "Companies"
         },
         {
          "ccvm": "20834",
          "num_files": 3,
          "type": "Companies"
         },
         {
          "ccvm": "21806",
          "num_files": 3,
          "type": "Companies"
         },
         {
          "ccvm": "22730",
          "num_files": 3,
          "type": "Companies"
         },
         {
          "ccvm": "23450",
          "num_files": 3,
          "type": "Companies"
         },
         {
          "ccvm": "23736",
          "num_files": 3,
          "type": "Companies"
         },
         {
          "ccvm": "23752",
          "num_files": 3,
          "type": "Companies"
         },
         {
          "ccvm": "23949",
          "num_files": 3,
          "type": "Companies"
         },
         {
          "ccvm": "24015",
          "num_files": 3,
          "type": "Companies"
         },
         {
          "ccvm": "24040",
          "num_files": 3,
          "type": "Companies"
         },
         {
          "ccvm": "4111",
          "num_files": 3,
          "type": "Companies"
         },
         {
          "ccvm": "5827",
          "num_files": 3,
          "type": "Companies"
         },
         {
          "ccvm": "21539",
          "num_files": 3,
          "type": "Companies"
         },
         {
          "ccvm": "21970",
          "num_files": 3,
          "type": "Companies"
         },
         {
          "ccvm": "23914",
          "num_files": 3,
          "type": "Companies"
         },
         {
          "ccvm": "24066",
          "num_files": 3,
          "type": "Companies"
         },
         {
          "ccvm": "24090",
          "num_files": 3,
          "type": "Companies"
         },
         {
          "ccvm": "24104",
          "num_files": 3,
          "type": "Companies"
         },
         {
          "ccvm": "24163",
          "num_files": 3,
          "type": "Companies"
         },
         {
          "ccvm": "24260",
          "num_files": 3,
          "type": "Companies"
         },
         {
          "ccvm": "12840",
          "num_files": 2,
          "type": "Companies"
         },
         {
          "ccvm": "14680",
          "num_files": 2,
          "type": "Companies"
         },
         {
          "ccvm": "14796",
          "num_files": 2,
          "type": "Companies"
         },
         {
          "ccvm": "20486",
          "num_files": 2,
          "type": "Companies"
         },
         {
          "ccvm": "23078",
          "num_files": 2,
          "type": "Companies"
         },
         {
          "ccvm": "23213",
          "num_files": 2,
          "type": "Companies"
         },
         {
          "ccvm": "23299",
          "num_files": 2,
          "type": "Companies"
         },
         {
          "ccvm": "23973",
          "num_files": 2,
          "type": "Companies"
         },
         {
          "ccvm": "24171",
          "num_files": 2,
          "type": "Companies"
         },
         {
          "ccvm": "24279",
          "num_files": 2,
          "type": "Companies"
         },
         {
          "ccvm": "24317",
          "num_files": 2,
          "type": "Companies"
         },
         {
          "ccvm": "6696",
          "num_files": 2,
          "type": "Companies"
         },
         {
          "ccvm": "17043",
          "num_files": 2,
          "type": "Companies"
         },
         {
          "ccvm": "17370",
          "num_files": 2,
          "type": "Companies"
         },
         {
          "ccvm": "17604",
          "num_files": 2,
          "type": "Companies"
         },
         {
          "ccvm": "18902",
          "num_files": 2,
          "type": "Companies"
         },
         {
          "ccvm": "18910",
          "num_files": 2,
          "type": "Companies"
         },
         {
          "ccvm": "18929",
          "num_files": 2,
          "type": "Companies"
         },
         {
          "ccvm": "22837",
          "num_files": 2,
          "type": "Companies"
         },
         {
          "ccvm": "22896",
          "num_files": 2,
          "type": "Companies"
         },
         {
          "ccvm": "22900",
          "num_files": 2,
          "type": "Companies"
         },
         {
          "ccvm": "22918",
          "num_files": 2,
          "type": "Companies"
         },
         {
          "ccvm": "23027",
          "num_files": 2,
          "type": "Companies"
         },
         {
          "ccvm": "23051",
          "num_files": 2,
          "type": "Companies"
         },
         {
          "ccvm": "23086",
          "num_files": 2,
          "type": "Companies"
         },
         {
          "ccvm": "24082",
          "num_files": 2,
          "type": "Companies"
         },
         {
          "ccvm": "24112",
          "num_files": 2,
          "type": "Companies"
         },
         {
          "ccvm": "24198",
          "num_files": 2,
          "type": "Companies"
         },
         {
          "ccvm": "24252",
          "num_files": 2,
          "type": "Companies"
         },
         {
          "ccvm": "24295",
          "num_files": 2,
          "type": "Companies"
         },
         {
          "ccvm": "24309",
          "num_files": 2,
          "type": "Companies"
         },
         {
          "ccvm": "12220",
          "num_files": 2,
          "type": "Companies"
         },
         {
          "ccvm": "16195",
          "num_files": 2,
          "type": "Companies"
         },
         {
          "ccvm": "16390",
          "num_files": 2,
          "type": "Companies"
         },
         {
          "ccvm": "16691",
          "num_files": 2,
          "type": "Companies"
         },
         {
          "ccvm": "19933",
          "num_files": 2,
          "type": "Companies"
         },
         {
          "ccvm": "20214",
          "num_files": 2,
          "type": "Companies"
         },
         {
          "ccvm": "20460",
          "num_files": 2,
          "type": "Companies"
         },
         {
          "ccvm": "2062",
          "num_files": 2,
          "type": "Companies"
         },
         {
          "ccvm": "21776",
          "num_files": 2,
          "type": "Companies"
         },
         {
          "ccvm": "22292",
          "num_files": 2,
          "type": "Companies"
         },
         {
          "ccvm": "22888",
          "num_files": 2,
          "type": "Companies"
         },
         {
          "ccvm": "23043",
          "num_files": 2,
          "type": "Companies"
         },
         {
          "ccvm": "23124",
          "num_files": 2,
          "type": "Companies"
         },
         {
          "ccvm": "23779",
          "num_files": 2,
          "type": "Companies"
         },
         {
          "ccvm": "24023",
          "num_files": 2,
          "type": "Companies"
         },
         {
          "ccvm": "24120",
          "num_files": 2,
          "type": "Companies"
         },
         {
          "ccvm": "24139",
          "num_files": 2,
          "type": "Companies"
         },
         {
          "ccvm": "24147",
          "num_files": 2,
          "type": "Companies"
         },
         {
          "ccvm": "24155",
          "num_files": 2,
          "type": "Companies"
         },
         {
          "ccvm": "24180",
          "num_files": 2,
          "type": "Companies"
         },
         {
          "ccvm": "24201",
          "num_files": 2,
          "type": "Companies"
         },
         {
          "ccvm": "24210",
          "num_files": 2,
          "type": "Companies"
         },
         {
          "ccvm": "24228",
          "num_files": 2,
          "type": "Companies"
         },
         {
          "ccvm": "24236",
          "num_files": 2,
          "type": "Companies"
         },
         {
          "ccvm": "24244",
          "num_files": 2,
          "type": "Companies"
         },
         {
          "ccvm": "24287",
          "num_files": 2,
          "type": "Companies"
         },
         {
          "ccvm": "24341",
          "num_files": 2,
          "type": "Companies"
         },
         {
          "ccvm": "24350",
          "num_files": 2,
          "type": "Companies"
         },
         {
          "ccvm": "24392",
          "num_files": 2,
          "type": "Companies"
         },
         {
          "ccvm": "80179",
          "num_files": 2,
          "type": "Companies"
         },
         {
          "ccvm": "8486",
          "num_files": 2,
          "type": "Companies"
         },
         {
          "ccvm": "11320",
          "num_files": 2,
          "type": "Companies"
         },
         {
          "ccvm": "18872",
          "num_files": 2,
          "type": "Companies"
         },
         {
          "ccvm": "19046",
          "num_files": 2,
          "type": "Companies"
         },
         {
          "ccvm": "19402",
          "num_files": 2,
          "type": "Companies"
         },
         {
          "ccvm": "20419",
          "num_files": 2,
          "type": "Companies"
         },
         {
          "ccvm": "21059",
          "num_files": 2,
          "type": "Companies"
         },
         {
          "ccvm": "22101",
          "num_files": 2,
          "type": "Companies"
         },
         {
          "ccvm": "22195",
          "num_files": 2,
          "type": "Companies"
         },
         {
          "ccvm": "22306",
          "num_files": 2,
          "type": "Companies"
         },
         {
          "ccvm": "22322",
          "num_files": 2,
          "type": "Companies"
         },
         {
          "ccvm": "22462",
          "num_files": 2,
          "type": "Companies"
         },
         {
          "ccvm": "22713",
          "num_files": 2,
          "type": "Companies"
         },
         {
          "ccvm": "22748",
          "num_files": 2,
          "type": "Companies"
         },
         {
          "ccvm": "23256",
          "num_files": 2,
          "type": "Companies"
         },
         {
          "ccvm": "24031",
          "num_files": 2,
          "type": "Companies"
         },
         {
          "ccvm": "9857",
          "num_files": 2,
          "type": "Companies"
         },
         {
          "ccvm": "14052",
          "num_files": 2,
          "type": "Companies"
         },
         {
          "ccvm": "17710",
          "num_files": 2,
          "type": "Companies"
         },
         {
          "ccvm": "19240",
          "num_files": 2,
          "type": "Companies"
         },
         {
          "ccvm": "23647",
          "num_files": 2,
          "type": "Companies"
         },
         {
          "ccvm": "23655",
          "num_files": 2,
          "type": "Companies"
         },
         {
          "ccvm": "23663",
          "num_files": 2,
          "type": "Companies"
         },
         {
          "ccvm": "24325",
          "num_files": 2,
          "type": "Companies"
         },
         {
          "ccvm": "24333",
          "num_files": 2,
          "type": "Companies"
         },
         {
          "ccvm": "24473",
          "num_files": 2,
          "type": "Companies"
         },
         {
          "ccvm": "4650",
          "num_files": 2,
          "type": "Companies"
         },
         {
          "ccvm": "140",
          "num_files": 1,
          "type": "Companies"
         },
         {
          "ccvm": "14010",
          "num_files": 1,
          "type": "Companies"
         },
         {
          "ccvm": "14028",
          "num_files": 1,
          "type": "Companies"
         },
         {
          "ccvm": "16730",
          "num_files": 1,
          "type": "Companies"
         },
         {
          "ccvm": "17655",
          "num_files": 1,
          "type": "Companies"
         },
         {
          "ccvm": "19089",
          "num_files": 1,
          "type": "Companies"
         },
         {
          "ccvm": "19631",
          "num_files": 1,
          "type": "Companies"
         },
         {
          "ccvm": "19887",
          "num_files": 1,
          "type": "Companies"
         },
         {
          "ccvm": "21423",
          "num_files": 1,
          "type": "Companies"
         },
         {
          "ccvm": "21660",
          "num_files": 1,
          "type": "Companies"
         },
         {
          "ccvm": "22284",
          "num_files": 1,
          "type": "Companies"
         },
         {
          "ccvm": "22314",
          "num_files": 1,
          "type": "Companies"
         },
         {
          "ccvm": "23361",
          "num_files": 1,
          "type": "Companies"
         },
         {
          "ccvm": "23400",
          "num_files": 1,
          "type": "Companies"
         },
         {
          "ccvm": "23787",
          "num_files": 1,
          "type": "Companies"
         },
         {
          "ccvm": "24384",
          "num_files": 1,
          "type": "Companies"
         },
         {
          "ccvm": "24406",
          "num_files": 1,
          "type": "Companies"
         },
         {
          "ccvm": "24554",
          "num_files": 1,
          "type": "Companies"
         },
         {
          "ccvm": "5878",
          "num_files": 1,
          "type": "Companies"
         },
         {
          "ccvm": "15610",
          "num_files": 1,
          "type": "Companies"
         },
         {
          "ccvm": "19143",
          "num_files": 1,
          "type": "Companies"
         },
         {
          "ccvm": "19500",
          "num_files": 1,
          "type": "Companies"
         },
         {
          "ccvm": "21598",
          "num_files": 1,
          "type": "Companies"
         },
         {
          "ccvm": "22063",
          "num_files": 1,
          "type": "Companies"
         },
         {
          "ccvm": "22241",
          "num_files": 1,
          "type": "Companies"
         },
         {
          "ccvm": "22705",
          "num_files": 1,
          "type": "Companies"
         },
         {
          "ccvm": "23191",
          "num_files": 1,
          "type": "Companies"
         },
         {
          "ccvm": "24368",
          "num_files": 1,
          "type": "Companies"
         },
         {
          "ccvm": "24414",
          "num_files": 1,
          "type": "Companies"
         },
         {
          "ccvm": "24422",
          "num_files": 1,
          "type": "Companies"
         },
         {
          "ccvm": "24430",
          "num_files": 1,
          "type": "Companies"
         },
         {
          "ccvm": "24457",
          "num_files": 1,
          "type": "Companies"
         },
         {
          "ccvm": "24481",
          "num_files": 1,
          "type": "Companies"
         },
         {
          "ccvm": "24490",
          "num_files": 1,
          "type": "Companies"
         },
         {
          "ccvm": "24538",
          "num_files": 1,
          "type": "Companies"
         },
         {
          "ccvm": "24546",
          "num_files": 1,
          "type": "Companies"
         },
         {
          "ccvm": "6378",
          "num_files": 1,
          "type": "Companies"
         },
         {
          "ccvm": "80004",
          "num_files": 1,
          "type": "Companies"
         },
         {
          "ccvm": "1201",
          "num_files": 1,
          "type": "Companies"
         },
         {
          "ccvm": "14540",
          "num_files": 1,
          "type": "Companies"
         },
         {
          "ccvm": "14931",
          "num_files": 1,
          "type": "Companies"
         },
         {
          "ccvm": "15334",
          "num_files": 1,
          "type": "Companies"
         },
         {
          "ccvm": "18082",
          "num_files": 1,
          "type": "Companies"
         },
         {
          "ccvm": "18635",
          "num_files": 1,
          "type": "Companies"
         },
         {
          "ccvm": "20400",
          "num_files": 1,
          "type": "Companies"
         },
         {
          "ccvm": "22098",
          "num_files": 1,
          "type": "Companies"
         },
         {
          "ccvm": "22527",
          "num_files": 1,
          "type": "Companies"
         },
         {
          "ccvm": "22624",
          "num_files": 1,
          "type": "Companies"
         },
         {
          "ccvm": "24465",
          "num_files": 1,
          "type": "Companies"
         },
         {
          "ccvm": "24503",
          "num_files": 1,
          "type": "Companies"
         },
         {
          "ccvm": "518700",
          "num_files": 1,
          "type": "Companies"
         },
         {
          "ccvm": "12181",
          "num_files": 0,
          "type": "Companies"
         },
         {
          "ccvm": "18988",
          "num_files": 0,
          "type": "Companies"
         },
         {
          "ccvm": "19216",
          "num_files": 0,
          "type": "Companies"
         },
         {
          "ccvm": "19496",
          "num_files": 0,
          "type": "Companies"
         },
         {
          "ccvm": "19968",
          "num_files": 0,
          "type": "Companies"
         },
         {
          "ccvm": "21415",
          "num_files": 0,
          "type": "Companies"
         },
         {
          "ccvm": "22152",
          "num_files": 0,
          "type": "Companies"
         },
         {
          "ccvm": "24007",
          "num_files": 0,
          "type": "Companies"
         },
         {
          "ccvm": "24449",
          "num_files": 0,
          "type": "Companies"
         },
         {
          "ccvm": "24511",
          "num_files": 0,
          "type": "Companies"
         },
         {
          "ccvm": "24520",
          "num_files": 0,
          "type": "Companies"
         },
         {
          "ccvm": "9784",
          "num_files": 0,
          "type": "Companies"
         },
         {
          "ccvm": "14710",
          "num_files": 0,
          "type": "Companies"
         },
         {
          "ccvm": "19801",
          "num_files": 0,
          "type": "Companies"
         },
         {
          "ccvm": "22535",
          "num_files": 0,
          "type": "Companies"
         },
         {
          "ccvm": "24376",
          "num_files": 0,
          "type": "Companies"
         }
        ]
       },
       "layer": [
        {
         "data": {
          "name": "data-02e3089812a1ac0b2959d82caed1caca"
         },
         "encoding": {
          "x": {
           "field": "",
           "type": "nominal"
          },
          "y": {
           "aggregate": "min",
           "axis": {
            "title": "num_files"
           },
           "field": "num_files",
           "type": "quantitative"
          },
          "y2": {
           "aggregate": "q1",
           "field": "num_files",
           "type": "quantitative"
          }
         },
         "mark": "rule",
         "width": 200
        },
        {
         "data": {
          "name": "data-02e3089812a1ac0b2959d82caed1caca"
         },
         "encoding": {
          "x": {
           "field": "",
           "type": "nominal"
          },
          "y": {
           "aggregate": "q1",
           "field": "num_files",
           "type": "quantitative"
          },
          "y2": {
           "aggregate": "q3",
           "field": "num_files",
           "type": "quantitative"
          }
         },
         "mark": {
          "size": 40,
          "type": "bar"
         },
         "width": 200
        },
        {
         "data": {
          "name": "data-02e3089812a1ac0b2959d82caed1caca"
         },
         "encoding": {
          "x": {
           "field": "",
           "type": "nominal"
          },
          "y": {
           "aggregate": "max",
           "field": "num_files",
           "type": "quantitative"
          },
          "y2": {
           "aggregate": "q3",
           "field": "num_files",
           "type": "quantitative"
          }
         },
         "mark": "rule",
         "width": 200
        },
        {
         "data": {
          "name": "data-02e3089812a1ac0b2959d82caed1caca"
         },
         "encoding": {
          "x": {
           "field": "",
           "type": "nominal"
          },
          "y": {
           "aggregate": "median",
           "field": "num_files",
           "type": "quantitative"
          }
         },
         "mark": {
          "color": "white",
          "size": 40,
          "type": "tick"
         }
        }
       ]
      },
      "image/png": "[encoded data removed]",
      "text/plain": [
       "<VegaLite 2 object>\n",
       "\n",
       "If you see this message, it means the renderer has not been properly enabled\n",
       "for the frontend that you are using. For more information, see\n",
       "https://altair-viz.github.io/user_guide/troubleshooting.html\n"
      ]
     },
     "execution_count": 59,
     "metadata": {},
     "output_type": "execute_result"
    }
   ],
   "source": [
    "boxplot_altair(files_per_company, '', 'num_files', width=200)"
   ]
  },
  {
   "cell_type": "code",
   "execution_count": 60,
   "metadata": {},
   "outputs": [],
   "source": [
    "def show_accounts(company_ccvm, balance_type, financial_info_type, period):\n",
    "\n",
    "    params = [company_ccvm, balance_type, financial_info_type, \"{:%Y-%m-%d}\".format(period)]\n",
    "    rows = session.execute(\n",
    "        \"SELECT number, name, financial_info_type, balance_type, value, comments FROM bovespa_account WHERE ccvm = %s AND balance_type = %s AND financial_info_type = %s AND period = %s;\",\n",
    "        parameters=params)\n",
    "    rows = list(rows)\n",
    "    if len(rows) > 0:\n",
    "        pd.set_option('display.max_rows', 100)\n",
    "        display(pd.DataFrame(list(rows))[[\"number\", \"name\", \"value\", \"comments\"]])\n",
    "    else:\n",
    "        display(\"No information available\")"
   ]
  },
  {
   "cell_type": "code",
   "execution_count": 61,
   "metadata": {},
   "outputs": [],
   "source": [
    "from ipywidgets import interact, interactive, fixed, interact_manual\n",
    "import ipywidgets as widgets\n",
    "#from IPython.display import display"
   ]
  },
  {
   "cell_type": "code",
   "execution_count": 70,
   "metadata": {},
   "outputs": [
    {
     "data": {
      "application/vnd.jupyter.widget-view+json": {
       "model_id": "caab954959bd4460a30c9d868793f859",
       "version_major": 2,
       "version_minor": 0
      },
      "text/plain": [
       "VBox(children=(HBox(children=(Dropdown(description='Company CCVM:', index=3285, options=(('3A COMPANHIA SECURI…"
      ]
     },
     "metadata": {},
     "output_type": "display_data"
    }
   ],
   "source": [
    "companies_df_subset = subset = companies_df[['company_name', 'ccvm']]\n",
    "companies_options = [tuple(x) for x in companies_df_subset.values]\n",
    "\n",
    "style = {'description_width': 'initial'}\n",
    "\n",
    "company_ccvm_sel = widgets.Dropdown(\n",
    "    options=companies_options,\n",
    "    value='13773',\n",
    "    description='Company CCVM:',\n",
    "    disabled=False,\n",
    "    style=style\n",
    ")\n",
    "\n",
    "balance_type_options = [\n",
    "    (\"Capital (only Accumulated)\", \"IF\"),\n",
    "    (\"Balance Sheet - Assets\", \"ASSETS\"),\n",
    "    (\"Balance Sheet - Liabilities\", \"LIABILITIES\"),\n",
    "    (\"Income Statement (P&L)\", \"DRE\"), \n",
    "    (\"Comprehensive Income)\", \"DRA\"),     \n",
    "    (\"Cash Flow Statement (Direct Method)\", \"DFC_MD\"),     \n",
    "    (\"Cash Flow Statement (Indirect Method)\", \"DFC_MI\"),     \n",
    "    (\"Equity and Cash\", \"DMPL\"),\n",
    "    (\"Statement of Added Value\", \"DVA\")    \n",
    "]\n",
    "\n",
    "balance_type_sel = widgets.Dropdown(\n",
    "    options=balance_type_options,\n",
    "    value='ASSETS',\n",
    "    description='Balance Type:',\n",
    "    disabled=False,\n",
    "    style=style\n",
    ")\n",
    "\n",
    "financial_info_type_sel = widgets.Dropdown(\n",
    "    options=[('Current', \"INSTANT\"), ('Accumulated', 'DURATION')],\n",
    "    value='INSTANT',\n",
    "    description='Financial Information Type:',\n",
    "    disabled=False,\n",
    "    style=style\n",
    ")\n",
    "\n",
    "period_sel = widgets.DatePicker(\n",
    "    description='Fiscal period',\n",
    "    value=parse_date(\"2013-06-30\"),\n",
    "    disabled=False,\n",
    "    style=style\n",
    ")\n",
    "\n",
    "#interact(show_accounts, company_ccvm=company_ccvm_sel, balance_type=balance_type_sel, financial_info_type=financial_info_type_sel, period=period_sel)\n",
    "\n",
    "out = widgets.interactive_output(show_accounts, {\n",
    "    'company_ccvm': company_ccvm_sel, \n",
    "    'balance_type': balance_type_sel, \n",
    "    'financial_info_type': financial_info_type_sel,\n",
    "    'period': period_sel})\n",
    "\n",
    "widgets.VBox([widgets.HBox([company_ccvm_sel, period_sel]), \n",
    "              widgets.HBox([balance_type_sel, financial_info_type_sel]),\n",
    "              out])"
   ]
  },
  {
   "cell_type": "code",
   "execution_count": 58,
   "metadata": {},
   "outputs": [
    {
     "data": {
      "application/vnd.vegalite.v2+json": {
       "$schema": "https://vega.github.io/schema/vega-lite/v2.6.0.json",
       "config": {
        "view": {
         "height": 300,
         "width": 400
        }
       },
       "data": {
        "format": {
         "type": "json"
        },
        "url": "https://vega.github.io/vega-datasets/data/cars.json"
       },
       "vconcat": [
        {
         "encoding": {
          "color": {
           "condition": {
            "field": "Origin",
            "selection": "selector001",
            "type": "nominal"
           },
           "value": "lightgray"
          },
          "x": {
           "field": "Horsepower",
           "type": "quantitative"
          },
          "y": {
           "field": "Miles_per_Gallon",
           "type": "quantitative"
          }
         },
         "mark": "point",
         "selection": {
          "selector001": {
           "encodings": [
            "x",
            "y"
           ],
           "mark": {
            "fill": "#333",
            "fillOpacity": 0.125,
            "stroke": "white"
           },
           "on": "[mousedown, window:mouseup] > window:mousemove!",
           "resolve": "global",
           "translate": "[mousedown, window:mouseup] > window:mousemove!",
           "type": "interval",
           "zoom": "wheel!"
          }
         }
        },
        {
         "encoding": {
          "color": {
           "field": "Origin",
           "type": "nominal"
          },
          "x": {
           "aggregate": "count",
           "field": "Origin",
           "type": "quantitative"
          },
          "y": {
           "field": "Origin",
           "type": "nominal"
          }
         },
         "mark": "bar",
         "transform": [
          {
           "filter": {
            "selection": "selector001"
           }
          }
         ]
        }
       ]
      },
      "image/png": "[encoded data removed]",
      "text/plain": [
       "<VegaLite 2 object>\n",
       "\n",
       "If you see this message, it means the renderer has not been properly enabled\n",
       "for the frontend that you are using. For more information, see\n",
       "https://altair-viz.github.io/user_guide/troubleshooting.html\n"
      ]
     },
     "execution_count": 58,
     "metadata": {},
     "output_type": "execute_result"
    }
   ],
   "source": [
    "import altair as alt\n",
    "from vega_datasets import data\n",
    "\n",
    "cars = data.cars.url\n",
    "\n",
    "brush = alt.selection(type='interval')\n",
    "\n",
    "points = alt.Chart().mark_point().encode(\n",
    "    x='Horsepower:Q',\n",
    "    y='Miles_per_Gallon:Q',\n",
    "    color=alt.condition(brush, 'Origin:N', alt.value('lightgray'))\n",
    ").add_selection(\n",
    "    brush\n",
    ")\n",
    "\n",
    "bars = alt.Chart().mark_bar().encode(\n",
    "    y='Origin:N',\n",
    "    color='Origin:N',\n",
    "    x='count(Origin):Q'\n",
    ").transform_filter(\n",
    "    brush\n",
    ")\n",
    "\n",
    "alt.vconcat(points, bars, data=cars)"
   ]
  },
  {
   "cell_type": "code",
   "execution_count": 12,
   "metadata": {},
   "outputs": [
    {
     "data": {
      "application/vnd.jupyter.widget-view+json": {
       "model_id": "adc31dbe22014684b077abe0ada90cf0",
       "version_major": 2,
       "version_minor": 0
      },
      "text/plain": [
       "interactive(children=(FloatSlider(value=100000.0, description='i', max=10000000.0, min=100000.0, step=100000.0…"
      ]
     },
     "metadata": {},
     "output_type": "display_data"
    }
   ],
   "source": [
    "def slow_function(i):\n",
    "    print(int(i),list(x for x in range(int(i)) if\n",
    "                str(x)==str(x)[::-1] and\n",
    "                str(x**2)==str(x**2)[::-1]))\n",
    "    return\n",
    "\n",
    "from ipywidgets import FloatSlider\n",
    "interact(slow_function,i=FloatSlider(min=1e5, max=1e7, step=1e5));"
   ]
  }
 ],
 "metadata": {
  "kernelspec": {
   "display_name": "django-davinci-api-lab",
   "language": "python",
   "name": "django-davinci-api-lab"
  },
  "language_info": {
   "codemirror_mode": {
    "name": "ipython",
    "version": 3
   },
   "file_extension": ".py",
   "mimetype": "text/x-python",
   "name": "python",
   "nbconvert_exporter": "python",
   "pygments_lexer": "ipython3",
   "version": "3.7.1"
  }
 },
 "nbformat": 4,
 "nbformat_minor": 2
}
